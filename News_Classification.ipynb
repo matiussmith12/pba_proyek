{
  "nbformat": 4,
  "nbformat_minor": 0,
  "metadata": {
    "colab": {
      "name": "News_Classification.ipynb",
      "provenance": [],
      "collapsed_sections": [],
      "machine_shape": "hm"
    },
    "kernelspec": {
      "name": "python3",
      "display_name": "Python 3"
    }
  },
  "cells": [
    {
      "cell_type": "code",
      "metadata": {
        "id": "RU0Cqz3tII6U",
        "colab_type": "code",
        "outputId": "19361866-cbe6-4e11-ba27-b0fc0ed95b32",
        "colab": {
          "base_uri": "https://localhost:8080/",
          "height": 72
        }
      },
      "source": [
        "from google.colab import drive\n",
        "drive.mount('/content/drive')\n",
        "%cd /content/drive/My\\ Drive"
      ],
      "execution_count": 0,
      "outputs": [
        {
          "output_type": "stream",
          "text": [
            "Drive already mounted at /content/drive; to attempt to forcibly remount, call drive.mount(\"/content/drive\", force_remount=True).\n",
            "/content/drive/My Drive\n"
          ],
          "name": "stdout"
        }
      ]
    },
    {
      "cell_type": "code",
      "metadata": {
        "id": "XejbCtawKgpB",
        "colab_type": "code",
        "outputId": "045a05f8-6695-471e-9482-23f81f768173",
        "colab": {
          "base_uri": "https://localhost:8080/",
          "height": 34
        }
      },
      "source": [
        "%cd Colab\\ Notebooks"
      ],
      "execution_count": 0,
      "outputs": [
        {
          "output_type": "stream",
          "text": [
            "/content/drive/My Drive/Colab Notebooks\n"
          ],
          "name": "stdout"
        }
      ]
    },
    {
      "cell_type": "code",
      "metadata": {
        "id": "qRb5HfXdKyCs",
        "colab_type": "code",
        "outputId": "eb82a9c9-859b-4dce-ad95-b85bfe7b216d",
        "colab": {
          "base_uri": "https://localhost:8080/",
          "height": 34
        }
      },
      "source": [
        "%cd data"
      ],
      "execution_count": 0,
      "outputs": [
        {
          "output_type": "stream",
          "text": [
            "/content/drive/My Drive/Colab Notebooks/data\n"
          ],
          "name": "stdout"
        }
      ]
    },
    {
      "cell_type": "code",
      "metadata": {
        "id": "15ZfPrrWLor3",
        "colab_type": "code",
        "outputId": "51c2399d-e39d-497e-fe94-3e795987f66e",
        "colab": {
          "base_uri": "https://localhost:8080/",
          "height": 34
        }
      },
      "source": [
        "!ls\n"
      ],
      "execution_count": 0,
      "outputs": [
        {
          "output_type": "stream",
          "text": [
            "News_Category_Dataset_v2.json\n"
          ],
          "name": "stdout"
        }
      ]
    },
    {
      "cell_type": "code",
      "metadata": {
        "id": "aFYS5VXEIXZD",
        "colab_type": "code",
        "colab": {}
      },
      "source": [
        "import pandas as pd\n",
        "import numpy as np\n",
        "import re\n",
        "from nltk.stem.snowball import SnowballStemmer\n",
        "from sklearn.pipeline import Pipeline\n",
        "from sklearn.linear_model import LogisticRegression\n",
        "from sklearn.svm import LinearSVC\n",
        "from sklearn.linear_model import PassiveAggressiveClassifier\n",
        "from sklearn.naive_bayes import MultinomialNB\n",
        "from sklearn.feature_extraction.text import TfidfVectorizer, CountVectorizer, TfidfTransformer\n",
        "from sklearn.neighbors import KNeighborsClassifier\n",
        "from sklearn.model_selection import GridSearchCV\n",
        "from sklearn.metrics import accuracy_score, confusion_matrix, roc_auc_score\n",
        "import nltk\n",
        "from nltk.stem import WordNetLemmatizer\n",
        "from nltk import word_tokenize\n",
        "from nltk.corpus import stopwords\n",
        "import string\n",
        "from sklearn.linear_model import SGDClassifier\n",
        "import logging\n",
        "from textblob import TextBlob\n",
        "from sklearn.preprocessing import LabelEncoder\n",
        "from sklearn.model_selection import train_test_split\n"
      ],
      "execution_count": 0,
      "outputs": []
    },
    {
      "cell_type": "code",
      "metadata": {
        "id": "3K16V49PLvBH",
        "colab_type": "code",
        "outputId": "2f78eb25-e5d6-420a-c67f-d0dbcea50545",
        "colab": {
          "base_uri": "https://localhost:8080/",
          "height": 281
        }
      },
      "source": [
        "data_news = pd.read_json(\"News_Category_Dataset_v2.json\", lines=True)[['category','headline','authors','short_description']]\n",
        "data_news.columns\n",
        "data_news.head()"
      ],
      "execution_count": 0,
      "outputs": [
        {
          "output_type": "execute_result",
          "data": {
            "text/html": [
              "<div>\n",
              "<style scoped>\n",
              "    .dataframe tbody tr th:only-of-type {\n",
              "        vertical-align: middle;\n",
              "    }\n",
              "\n",
              "    .dataframe tbody tr th {\n",
              "        vertical-align: top;\n",
              "    }\n",
              "\n",
              "    .dataframe thead th {\n",
              "        text-align: right;\n",
              "    }\n",
              "</style>\n",
              "<table border=\"1\" class=\"dataframe\">\n",
              "  <thead>\n",
              "    <tr style=\"text-align: right;\">\n",
              "      <th></th>\n",
              "      <th>category</th>\n",
              "      <th>headline</th>\n",
              "      <th>authors</th>\n",
              "      <th>short_description</th>\n",
              "    </tr>\n",
              "  </thead>\n",
              "  <tbody>\n",
              "    <tr>\n",
              "      <th>0</th>\n",
              "      <td>CRIME</td>\n",
              "      <td>There Were 2 Mass Shootings In Texas Last Week...</td>\n",
              "      <td>Melissa Jeltsen</td>\n",
              "      <td>She left her husband. He killed their children...</td>\n",
              "    </tr>\n",
              "    <tr>\n",
              "      <th>1</th>\n",
              "      <td>ENTERTAINMENT</td>\n",
              "      <td>Will Smith Joins Diplo And Nicky Jam For The 2...</td>\n",
              "      <td>Andy McDonald</td>\n",
              "      <td>Of course it has a song.</td>\n",
              "    </tr>\n",
              "    <tr>\n",
              "      <th>2</th>\n",
              "      <td>ENTERTAINMENT</td>\n",
              "      <td>Hugh Grant Marries For The First Time At Age 57</td>\n",
              "      <td>Ron Dicker</td>\n",
              "      <td>The actor and his longtime girlfriend Anna Ebe...</td>\n",
              "    </tr>\n",
              "    <tr>\n",
              "      <th>3</th>\n",
              "      <td>ENTERTAINMENT</td>\n",
              "      <td>Jim Carrey Blasts 'Castrato' Adam Schiff And D...</td>\n",
              "      <td>Ron Dicker</td>\n",
              "      <td>The actor gives Dems an ass-kicking for not fi...</td>\n",
              "    </tr>\n",
              "    <tr>\n",
              "      <th>4</th>\n",
              "      <td>ENTERTAINMENT</td>\n",
              "      <td>Julianna Margulies Uses Donald Trump Poop Bags...</td>\n",
              "      <td>Ron Dicker</td>\n",
              "      <td>The \"Dietland\" actress said using the bags is ...</td>\n",
              "    </tr>\n",
              "  </tbody>\n",
              "</table>\n",
              "</div>"
            ],
            "text/plain": [
              "        category  ...                                  short_description\n",
              "0          CRIME  ...  She left her husband. He killed their children...\n",
              "1  ENTERTAINMENT  ...                           Of course it has a song.\n",
              "2  ENTERTAINMENT  ...  The actor and his longtime girlfriend Anna Ebe...\n",
              "3  ENTERTAINMENT  ...  The actor gives Dems an ass-kicking for not fi...\n",
              "4  ENTERTAINMENT  ...  The \"Dietland\" actress said using the bags is ...\n",
              "\n",
              "[5 rows x 4 columns]"
            ]
          },
          "metadata": {
            "tags": []
          },
          "execution_count": 128
        }
      ]
    },
    {
      "cell_type": "code",
      "metadata": {
        "id": "J3cXtNo0L-I9",
        "colab_type": "code",
        "outputId": "6c2fe5d5-fd27-4127-b871-a238467f6d1b",
        "colab": {
          "base_uri": "https://localhost:8080/",
          "height": 176
        }
      },
      "source": [
        "data_news.info()"
      ],
      "execution_count": 0,
      "outputs": [
        {
          "output_type": "stream",
          "text": [
            "<class 'pandas.core.frame.DataFrame'>\n",
            "RangeIndex: 200853 entries, 0 to 200852\n",
            "Data columns (total 4 columns):\n",
            "category             200853 non-null object\n",
            "headline             200853 non-null object\n",
            "authors              200853 non-null object\n",
            "short_description    200853 non-null object\n",
            "dtypes: object(4)\n",
            "memory usage: 6.1+ MB\n"
          ],
          "name": "stdout"
        }
      ]
    },
    {
      "cell_type": "code",
      "metadata": {
        "id": "HRyIotuypkKj",
        "colab_type": "code",
        "outputId": "6440317c-9e64-4cde-87c7-a9e381a4a2a6",
        "colab": {
          "base_uri": "https://localhost:8080/",
          "height": 34
        }
      },
      "source": [
        "data_news.shape"
      ],
      "execution_count": 0,
      "outputs": [
        {
          "output_type": "execute_result",
          "data": {
            "text/plain": [
              "(200853, 4)"
            ]
          },
          "metadata": {
            "tags": []
          },
          "execution_count": 130
        }
      ]
    },
    {
      "cell_type": "code",
      "metadata": {
        "id": "1BhoBi8hpqiz",
        "colab_type": "code",
        "outputId": "c31b4c55-8122-42a0-de1c-64da482d2f01",
        "colab": {
          "base_uri": "https://localhost:8080/",
          "height": 763
        }
      },
      "source": [
        "data_news.category.value_counts()"
      ],
      "execution_count": 0,
      "outputs": [
        {
          "output_type": "execute_result",
          "data": {
            "text/plain": [
              "POLITICS          32739\n",
              "WELLNESS          17827\n",
              "ENTERTAINMENT     16058\n",
              "TRAVEL             9887\n",
              "STYLE & BEAUTY     9649\n",
              "PARENTING          8677\n",
              "HEALTHY LIVING     6694\n",
              "QUEER VOICES       6314\n",
              "FOOD & DRINK       6226\n",
              "BUSINESS           5937\n",
              "COMEDY             5175\n",
              "SPORTS             4884\n",
              "BLACK VOICES       4528\n",
              "HOME & LIVING      4195\n",
              "PARENTS            3955\n",
              "THE WORLDPOST      3664\n",
              "WEDDINGS           3651\n",
              "WOMEN              3490\n",
              "IMPACT             3459\n",
              "DIVORCE            3426\n",
              "CRIME              3405\n",
              "MEDIA              2815\n",
              "WEIRD NEWS         2670\n",
              "GREEN              2622\n",
              "WORLDPOST          2579\n",
              "RELIGION           2556\n",
              "STYLE              2254\n",
              "SCIENCE            2178\n",
              "WORLD NEWS         2177\n",
              "TASTE              2096\n",
              "TECH               2082\n",
              "MONEY              1707\n",
              "ARTS               1509\n",
              "FIFTY              1401\n",
              "GOOD NEWS          1398\n",
              "ARTS & CULTURE     1339\n",
              "ENVIRONMENT        1323\n",
              "COLLEGE            1144\n",
              "LATINO VOICES      1129\n",
              "CULTURE & ARTS     1030\n",
              "EDUCATION          1004\n",
              "Name: category, dtype: int64"
            ]
          },
          "metadata": {
            "tags": []
          },
          "execution_count": 131
        }
      ]
    },
    {
      "cell_type": "code",
      "metadata": {
        "id": "67LFic-Sq04Z",
        "colab_type": "code",
        "outputId": "946cabf8-f713-4805-a0b2-f2a3b5225ec3",
        "colab": {
          "base_uri": "https://localhost:8080/",
          "height": 250
        }
      },
      "source": [
        "data_news.authors.value_counts()"
      ],
      "execution_count": 0,
      "outputs": [
        {
          "output_type": "execute_result",
          "data": {
            "text/plain": [
              "                                                                                          36620\n",
              "Lee Moran                                                                                  2423\n",
              "Ron Dicker                                                                                 1913\n",
              "Reuters, Reuters                                                                           1562\n",
              "Ed Mazza                                                                                   1322\n",
              "                                                                                          ...  \n",
              "Alice Hines and Mark Gongloff                                                                 1\n",
              "Brian Castrucci, ContributorChief Program and Strategy Officer, de Beaumont Foundation        1\n",
              "Edward J. Black, Contributor\\nContributor                                                     1\n",
              "Lisa Bloom, Contributor\\nAttorney and bestselling author                                      1\n",
              "Stephen Maloney, ContributorWriter and editor from New Orleans.                               1\n",
              "Name: authors, Length: 27993, dtype: int64"
            ]
          },
          "metadata": {
            "tags": []
          },
          "execution_count": 132
        }
      ]
    },
    {
      "cell_type": "code",
      "metadata": {
        "id": "g_uF0SuIMEhq",
        "colab_type": "code",
        "outputId": "165a79b3-be8c-471e-c606-7f629ae74967",
        "colab": {
          "base_uri": "https://localhost:8080/",
          "height": 34
        }
      },
      "source": [
        "len(data_news['category'].unique())"
      ],
      "execution_count": 0,
      "outputs": [
        {
          "output_type": "execute_result",
          "data": {
            "text/plain": [
              "41"
            ]
          },
          "metadata": {
            "tags": []
          },
          "execution_count": 133
        }
      ]
    },
    {
      "cell_type": "code",
      "metadata": {
        "id": "vkK9JqzYppso",
        "colab_type": "code",
        "outputId": "aaf1ec60-913f-4982-b6aa-27c6c21ad291",
        "colab": {
          "base_uri": "https://localhost:8080/",
          "height": 34
        }
      },
      "source": [
        "len(data_news['authors'].unique())"
      ],
      "execution_count": 0,
      "outputs": [
        {
          "output_type": "execute_result",
          "data": {
            "text/plain": [
              "27993"
            ]
          },
          "metadata": {
            "tags": []
          },
          "execution_count": 134
        }
      ]
    },
    {
      "cell_type": "code",
      "metadata": {
        "id": "xyz8KxSAMI_O",
        "colab_type": "code",
        "outputId": "8cca680b-144c-4e3e-be9a-54f7213d5bfc",
        "colab": {
          "base_uri": "https://localhost:8080/",
          "height": 705
        }
      },
      "source": [
        "data_news['category'].value_counts().plot( kind='bar', figsize=(15,10))"
      ],
      "execution_count": 0,
      "outputs": [
        {
          "output_type": "execute_result",
          "data": {
            "text/plain": [
              "<matplotlib.axes._subplots.AxesSubplot at 0x7f027aa8ddd8>"
            ]
          },
          "metadata": {
            "tags": []
          },
          "execution_count": 135
        },
        {
          "output_type": "display_data",
          "data": {
            "image/png": "[encoded data removed]",
            "text/plain": [
              "<Figure size 1080x720 with 1 Axes>"
            ]
          },
          "metadata": {
            "tags": []
          }
        }
      ]
    },
    {
      "cell_type": "code",
      "metadata": {
        "id": "03LcdCubqo1q",
        "colab_type": "code",
        "colab": {}
      },
      "source": [
        ""
      ],
      "execution_count": 0,
      "outputs": []
    },
    {
      "cell_type": "code",
      "metadata": {
        "id": "3aU014vLMzg7",
        "colab_type": "code",
        "outputId": "ef549c98-f83d-4ae8-cbf3-d2dfbcb999a1",
        "colab": {
          "base_uri": "https://localhost:8080/",
          "height": 212
        }
      },
      "source": [
        "nltk.download('punkt')\n",
        "nltk.download('stopwords')\n",
        "nltk.download('wordnet')\n",
        "nltk.download('averaged_perceptron_tagger')"
      ],
      "execution_count": 0,
      "outputs": [
        {
          "output_type": "stream",
          "text": [
            "[nltk_data] Downloading package punkt to /root/nltk_data...\n",
            "[nltk_data]   Package punkt is already up-to-date!\n",
            "[nltk_data] Downloading package stopwords to /root/nltk_data...\n",
            "[nltk_data]   Package stopwords is already up-to-date!\n",
            "[nltk_data] Downloading package wordnet to /root/nltk_data...\n",
            "[nltk_data]   Package wordnet is already up-to-date!\n",
            "[nltk_data] Downloading package averaged_perceptron_tagger to\n",
            "[nltk_data]     /root/nltk_data...\n",
            "[nltk_data]   Package averaged_perceptron_tagger is already up-to-\n",
            "[nltk_data]       date!\n"
          ],
          "name": "stdout"
        },
        {
          "output_type": "execute_result",
          "data": {
            "text/plain": [
              "True"
            ]
          },
          "metadata": {
            "tags": []
          },
          "execution_count": 136
        }
      ]
    },
    {
      "cell_type": "code",
      "metadata": {
        "id": "F7SLl9WFNT0e",
        "colab_type": "code",
        "colab": {}
      },
      "source": [
        "stop_words = set(stopwords.words('english'))\n",
        "word_net = WordNetLemmatizer()\n",
        "\n",
        "my_words = ['make', 'amp', 'news', 'new', 'time', 'u', 's',\n",
        "         'photos', 'get', 'say']\n"
      ],
      "execution_count": 0,
      "outputs": []
    },
    {
      "cell_type": "code",
      "metadata": {
        "id": "Dda70VUJN9-q",
        "colab_type": "code",
        "colab": {}
      },
      "source": [
        "def black_txt(token):\n",
        "\n",
        "  token_stop_words = token not in stop_words\n",
        "  token_list = token not in list(string.punctuation)\n",
        "  token_my_sw = token not in my_sw\n",
        "  return token_stop_words and token_list, len(token)>2, token_my_sw"
      ],
      "execution_count": 0,
      "outputs": []
    },
    {
      "cell_type": "code",
      "metadata": {
        "id": "e0zCzuQKOw0_",
        "colab_type": "code",
        "colab": {}
      },
      "source": [
        "def clean_txt(text):\n",
        "  clean_text = []\n",
        "  clean_text2 = []\n",
        "  text = re.sub(\"'\", \"\", text)\n",
        "  text = re.sub(\"(\\\\d|\\\\W)+\",\" \", text)\n",
        "  clean_text = [wn.lemmatize(word, pos=\"v\") for word in word_tokenize(text.lower()) if black_txt(word)]\n",
        "  clean_text2 = [word for word in clean_text if black_txt(word)]\n",
        "  return \" \".join(clean_text2)"
      ],
      "execution_count": 0,
      "outputs": []
    },
    {
      "cell_type": "code",
      "metadata": {
        "id": "y4-rUc-qPr23",
        "colab_type": "code",
        "outputId": "99199f22-5114-473c-93ff-24c8a6b55dc7",
        "colab": {
          "base_uri": "https://localhost:8080/",
          "height": 54
        }
      },
      "source": [
        "data_news.short_description[2]"
      ],
      "execution_count": 0,
      "outputs": [
        {
          "output_type": "execute_result",
          "data": {
            "text/plain": [
              "'The actor and his longtime girlfriend Anna Eberstein tied the knot in a civil ceremony.'"
            ]
          },
          "metadata": {
            "tags": []
          },
          "execution_count": 140
        }
      ]
    },
    {
      "cell_type": "code",
      "metadata": {
        "id": "ZDlC2j6Ws4Ak",
        "colab_type": "code",
        "colab": {}
      },
      "source": [
        "# Processing the Data and Tf-IDF\n"
      ],
      "execution_count": 0,
      "outputs": []
    },
    {
      "cell_type": "code",
      "metadata": {
        "id": "oWmvK0XlP5k0",
        "colab_type": "code",
        "colab": {}
      },
      "source": [
        "data_news.category = data_news.category.map(lambda x: \"WORLDPOST\" if x == \"THE WORLDPOST\" else x)"
      ],
      "execution_count": 0,
      "outputs": []
    },
    {
      "cell_type": "code",
      "metadata": {
        "id": "sgYKV9iiQNLT",
        "colab_type": "code",
        "colab": {}
      },
      "source": [
        "data_news['text'] = data_news['headline'] + \" \" + data_news['short_description']"
      ],
      "execution_count": 0,
      "outputs": []
    },
    {
      "cell_type": "code",
      "metadata": {
        "id": "aA6ZNQ7yQVFd",
        "colab_type": "code",
        "outputId": "8104b491-4270-4cfe-8904-8fbe3c704448",
        "colab": {
          "base_uri": "https://localhost:8080/",
          "height": 54
        }
      },
      "source": [
        "data_news.text[10]\n"
      ],
      "execution_count": 0,
      "outputs": [
        {
          "output_type": "execute_result",
          "data": {
            "text/plain": [
              "'Justin Timberlake Visits Texas School Shooting Victims The pop star also wore a \"Santa Fe Strong\" shirt at his show in Houston.'"
            ]
          },
          "metadata": {
            "tags": []
          },
          "execution_count": 143
        }
      ]
    },
    {
      "cell_type": "code",
      "metadata": {
        "id": "kt-Dt80cQgqC",
        "colab_type": "code",
        "outputId": "c60cc312-eac1-4328-c5bc-843cb3102380",
        "colab": {
          "base_uri": "https://localhost:8080/",
          "height": 54
        }
      },
      "source": [
        "clean_txt(data_news.text[10])"
      ],
      "execution_count": 0,
      "outputs": [
        {
          "output_type": "execute_result",
          "data": {
            "text/plain": [
              "'justin timberlake visit texas school shoot victims the pop star also wear a santa fe strong shirt at his show in houston'"
            ]
          },
          "metadata": {
            "tags": []
          },
          "execution_count": 144
        }
      ]
    },
    {
      "cell_type": "code",
      "metadata": {
        "id": "76aGW4CgQjm2",
        "colab_type": "code",
        "outputId": "bc15e4e7-e8aa-4fb3-b32c-16e5d8166c12",
        "colab": {
          "base_uri": "https://localhost:8080/",
          "height": 54
        }
      },
      "source": [
        "clean_txt(data_news.text[200000])"
      ],
      "execution_count": 0,
      "outputs": [
        {
          "output_type": "execute_result",
          "data": {
            "text/plain": [
              "'how a swiss army knife mean love to editor brie dyas to say that i plan on move out at the first chance be an understatement though im lucky to have a great relationship'"
            ]
          },
          "metadata": {
            "tags": []
          },
          "execution_count": 145
        }
      ]
    },
    {
      "cell_type": "code",
      "metadata": {
        "id": "AuvytGtxS5zp",
        "colab_type": "code",
        "outputId": "796e1ef0-af69-4d6c-a878-7e0e70bbb678",
        "colab": {
          "base_uri": "https://localhost:8080/",
          "height": 54
        }
      },
      "source": [
        "blob = TextBlob(data_news.text[200000])\n",
        "str(blob.correct())"
      ],
      "execution_count": 0,
      "outputs": [
        {
          "output_type": "execute_result",
          "data": {
            "text/plain": [
              "\"Now A Swiss Army Knife Means 'Love' To Editor Erie Was To say that I planned on moving out at the first chance is an understatement. Though I'm lucky to have a great relationship\""
            ]
          },
          "metadata": {
            "tags": []
          },
          "execution_count": 146
        }
      ]
    },
    {
      "cell_type": "code",
      "metadata": {
        "id": "LHKGelaiTAkQ",
        "colab_type": "code",
        "colab": {}
      },
      "source": [
        "def polarity_txt(text):\n",
        "  return TextBlob(text).sentiment[0]"
      ],
      "execution_count": 0,
      "outputs": []
    },
    {
      "cell_type": "code",
      "metadata": {
        "id": "VdUzyt3CTb8s",
        "colab_type": "code",
        "colab": {}
      },
      "source": [
        "def subj_txt(text):\n",
        "  return TextBlob(text).sentiment[1]"
      ],
      "execution_count": 0,
      "outputs": []
    },
    {
      "cell_type": "code",
      "metadata": {
        "id": "IG2T_RBCTkG8",
        "colab_type": "code",
        "colab": {}
      },
      "source": [
        "def len_text(text):\n",
        "  if len(text.split()) > 0:\n",
        "    return len(set(clean_txt(text).split())) / len (text.split())\n",
        "  else:\n",
        "    return 0"
      ],
      "execution_count": 0,
      "outputs": []
    },
    {
      "cell_type": "code",
      "metadata": {
        "id": "bG6a1EDwTyoA",
        "colab_type": "code",
        "outputId": "0841ed1d-3b34-4000-d7bc-64bcb23216ae",
        "colab": {
          "base_uri": "https://localhost:8080/",
          "height": 144
        }
      },
      "source": [
        "data_news['polarity'] = data_news['text'].apply(polarity_txt)\n",
        "data_news.head(1)"
      ],
      "execution_count": 0,
      "outputs": [
        {
          "output_type": "execute_result",
          "data": {
            "text/html": [
              "<div>\n",
              "<style scoped>\n",
              "    .dataframe tbody tr th:only-of-type {\n",
              "        vertical-align: middle;\n",
              "    }\n",
              "\n",
              "    .dataframe tbody tr th {\n",
              "        vertical-align: top;\n",
              "    }\n",
              "\n",
              "    .dataframe thead th {\n",
              "        text-align: right;\n",
              "    }\n",
              "</style>\n",
              "<table border=\"1\" class=\"dataframe\">\n",
              "  <thead>\n",
              "    <tr style=\"text-align: right;\">\n",
              "      <th></th>\n",
              "      <th>category</th>\n",
              "      <th>headline</th>\n",
              "      <th>authors</th>\n",
              "      <th>short_description</th>\n",
              "      <th>text</th>\n",
              "      <th>polarity</th>\n",
              "    </tr>\n",
              "  </thead>\n",
              "  <tbody>\n",
              "    <tr>\n",
              "      <th>0</th>\n",
              "      <td>CRIME</td>\n",
              "      <td>There Were 2 Mass Shootings In Texas Last Week...</td>\n",
              "      <td>Melissa Jeltsen</td>\n",
              "      <td>She left her husband. He killed their children...</td>\n",
              "      <td>There Were 2 Mass Shootings In Texas Last Week...</td>\n",
              "      <td>-0.05</td>\n",
              "    </tr>\n",
              "  </tbody>\n",
              "</table>\n",
              "</div>"
            ],
            "text/plain": [
              "  category  ... polarity\n",
              "0    CRIME  ...    -0.05\n",
              "\n",
              "[1 rows x 6 columns]"
            ]
          },
          "metadata": {
            "tags": []
          },
          "execution_count": 150
        }
      ]
    },
    {
      "cell_type": "code",
      "metadata": {
        "id": "L_snju8sT5E7",
        "colab_type": "code",
        "outputId": "9f0451e2-0881-4119-e333-f7bc6ee89268",
        "colab": {
          "base_uri": "https://localhost:8080/",
          "height": 197
        }
      },
      "source": [
        "data_news['subjectivity'] = data_news['text'].apply(subj_txt)\n",
        "data_news.head(1)"
      ],
      "execution_count": 0,
      "outputs": [
        {
          "output_type": "execute_result",
          "data": {
            "text/html": [
              "<div>\n",
              "<style scoped>\n",
              "    .dataframe tbody tr th:only-of-type {\n",
              "        vertical-align: middle;\n",
              "    }\n",
              "\n",
              "    .dataframe tbody tr th {\n",
              "        vertical-align: top;\n",
              "    }\n",
              "\n",
              "    .dataframe thead th {\n",
              "        text-align: right;\n",
              "    }\n",
              "</style>\n",
              "<table border=\"1\" class=\"dataframe\">\n",
              "  <thead>\n",
              "    <tr style=\"text-align: right;\">\n",
              "      <th></th>\n",
              "      <th>category</th>\n",
              "      <th>headline</th>\n",
              "      <th>authors</th>\n",
              "      <th>short_description</th>\n",
              "      <th>text</th>\n",
              "      <th>polarity</th>\n",
              "      <th>subjectivity</th>\n",
              "    </tr>\n",
              "  </thead>\n",
              "  <tbody>\n",
              "    <tr>\n",
              "      <th>0</th>\n",
              "      <td>CRIME</td>\n",
              "      <td>There Were 2 Mass Shootings In Texas Last Week...</td>\n",
              "      <td>Melissa Jeltsen</td>\n",
              "      <td>She left her husband. He killed their children...</td>\n",
              "      <td>There Were 2 Mass Shootings In Texas Last Week...</td>\n",
              "      <td>-0.05</td>\n",
              "      <td>0.266667</td>\n",
              "    </tr>\n",
              "  </tbody>\n",
              "</table>\n",
              "</div>"
            ],
            "text/plain": [
              "  category  ... subjectivity\n",
              "0    CRIME  ...     0.266667\n",
              "\n",
              "[1 rows x 7 columns]"
            ]
          },
          "metadata": {
            "tags": []
          },
          "execution_count": 151
        }
      ]
    },
    {
      "cell_type": "code",
      "metadata": {
        "id": "AigP-ODfUzIf",
        "colab_type": "code",
        "outputId": "6d8796ea-d31f-42c8-c365-2363a150be0c",
        "colab": {
          "base_uri": "https://localhost:8080/",
          "height": 197
        }
      },
      "source": [
        "data_news['len'] = df_news['text'].apply(len_text)\n",
        "data_news.head(1)"
      ],
      "execution_count": 0,
      "outputs": [
        {
          "output_type": "execute_result",
          "data": {
            "text/html": [
              "<div>\n",
              "<style scoped>\n",
              "    .dataframe tbody tr th:only-of-type {\n",
              "        vertical-align: middle;\n",
              "    }\n",
              "\n",
              "    .dataframe tbody tr th {\n",
              "        vertical-align: top;\n",
              "    }\n",
              "\n",
              "    .dataframe thead th {\n",
              "        text-align: right;\n",
              "    }\n",
              "</style>\n",
              "<table border=\"1\" class=\"dataframe\">\n",
              "  <thead>\n",
              "    <tr style=\"text-align: right;\">\n",
              "      <th></th>\n",
              "      <th>category</th>\n",
              "      <th>headline</th>\n",
              "      <th>authors</th>\n",
              "      <th>short_description</th>\n",
              "      <th>text</th>\n",
              "      <th>polarity</th>\n",
              "      <th>subjectivity</th>\n",
              "      <th>len</th>\n",
              "    </tr>\n",
              "  </thead>\n",
              "  <tbody>\n",
              "    <tr>\n",
              "      <th>0</th>\n",
              "      <td>CRIME</td>\n",
              "      <td>There Were 2 Mass Shootings In Texas Last Week...</td>\n",
              "      <td>Melissa Jeltsen</td>\n",
              "      <td>She left her husband. He killed their children...</td>\n",
              "      <td>There Were 2 Mass Shootings In Texas Last Week...</td>\n",
              "      <td>-0.05</td>\n",
              "      <td>0.266667</td>\n",
              "      <td>0.888889</td>\n",
              "    </tr>\n",
              "  </tbody>\n",
              "</table>\n",
              "</div>"
            ],
            "text/plain": [
              "  category  ...       len\n",
              "0    CRIME  ...  0.888889\n",
              "\n",
              "[1 rows x 8 columns]"
            ]
          },
          "metadata": {
            "tags": []
          },
          "execution_count": 152
        }
      ]
    },
    {
      "cell_type": "code",
      "metadata": {
        "id": "JZjYsen7VjL2",
        "colab_type": "code",
        "colab": {}
      },
      "source": [
        "from sklearn.base import BaseEstimator, TransformerMixin\n",
        "from sklearn.pipeline import FeatureUnion\n",
        "from sklearn.feature_extraction import DictVectorizer\n",
        "\n",
        "class ItemSelector(BaseEstimator, TransformerMixin):\n",
        "  def __init__(self, key):\n",
        "    self.key = key\n",
        "  \n",
        "  def fit(self, x, y=None):\n",
        "    return self\n",
        "  \n",
        "  def transform(self, data_dict):\n",
        "    return data_dict[self.key]\n",
        "\n",
        "class TextStats(BaseEstimator, TransformerMixin):\n",
        "  \"\"\"Extract features from each document for DictVectorizer\"\"\"\n",
        "\n",
        "  def fit(self, x, y=None):\n",
        "    return self\n",
        "  \n",
        "  def transform(self, data):\n",
        "    return [{'pos': row['polarity'], 'sub': row['subjectivity'], 'len': row['len']} for _, row in data.iterrows()]"
      ],
      "execution_count": 0,
      "outputs": []
    },
    {
      "cell_type": "code",
      "metadata": {
        "id": "eYHFzK1WiMv3",
        "colab_type": "code",
        "colab": {}
      },
      "source": [
        ""
      ],
      "execution_count": 0,
      "outputs": []
    },
    {
      "cell_type": "code",
      "metadata": {
        "id": "R6bqImvqXCFR",
        "colab_type": "code",
        "colab": {}
      },
      "source": [
        "# Pipe Line\n",
        "\n",
        "pipeline = Pipeline([\n",
        "    ('union', FeatureUnion(\n",
        "        transformer_list=[\n",
        "                          \n",
        "            ('text', Pipeline([\n",
        "                ('selector', ItemSelector(key='text')),\n",
        "                ('tfidf', TfidfVectorizer( min_df=3, max_df=0.2, max_features=None,\n",
        "                    strip_accents = 'unicode', analyzer='word',token_pattern=r'\\w{1,}',\n",
        "                    ngram_range=(1, 10), use_idf=1,smooth_idf=1,sublinear_tf=1,\n",
        "                    stop_words=None, preprocessor=clean_txt)),\n",
        "            ])),\n",
        "\n",
        "            ('stats', Pipeline([\n",
        "                  ('selector', ItemSelector(key=['polarity', 'subjectivity', 'len'])),\n",
        "                  ('stats', TextStats()),\n",
        "                  ('vect', DictVectorizer()),\n",
        "            ])),\n",
        "\n",
        "        ],\n",
        "\n",
        "        transformer_weights = {\n",
        "            'text':0.9,\n",
        "            'stats':1.5,\n",
        "        },\n",
        "\n",
        "    ))\n",
        "    \n",
        "])"
      ],
      "execution_count": 0,
      "outputs": []
    },
    {
      "cell_type": "code",
      "metadata": {
        "id": "rHO8_3dEZDzL",
        "colab_type": "code",
        "colab": {}
      },
      "source": [
        "from sklearn.preprocessing import LabelEncoder\n",
        "from sklearn.model_selection import train_test_split\n",
        "\n",
        "seed = 40\n",
        "X = data_news[['text', 'polarity', 'subjectivity', 'len']]\n",
        "y = data_news['category']\n",
        "\n",
        "encoder = LabelEncoder()\n",
        "y = encoder.fit_transform(y)\n",
        "x_train, x_test, y_train, y_test = train_test_split(X, y, test_size=0.2, random_state=seed, stratify=y)"
      ],
      "execution_count": 0,
      "outputs": []
    },
    {
      "cell_type": "code",
      "metadata": {
        "id": "khCIG_d7cW1c",
        "colab_type": "code",
        "outputId": "70501403-3795-459b-c323-80fab11fcd3d",
        "colab": {
          "base_uri": "https://localhost:8080/",
          "height": 730
        }
      },
      "source": [
        "pipeline.fit(x_train)"
      ],
      "execution_count": 0,
      "outputs": [
        {
          "output_type": "execute_result",
          "data": {
            "text/plain": [
              "Pipeline(memory=None,\n",
              "         steps=[('union',\n",
              "                 FeatureUnion(n_jobs=None,\n",
              "                              transformer_list=[('text',\n",
              "                                                 Pipeline(memory=None,\n",
              "                                                          steps=[('selector',\n",
              "                                                                  ItemSelector(key='text')),\n",
              "                                                                 ('tfidf',\n",
              "                                                                  TfidfVectorizer(analyzer='word',\n",
              "                                                                                  binary=False,\n",
              "                                                                                  decode_error='strict',\n",
              "                                                                                  dtype=<class 'numpy.float64'>,\n",
              "                                                                                  encoding='utf-8',\n",
              "                                                                                  input='content',\n",
              "                                                                                  lowercase=True,\n",
              "                                                                                  max_df=0.2,\n",
              "                                                                                  max_features=None,\n",
              "                                                                                  min_df=3,\n",
              "                                                                                  ngram...\n",
              "                                                                                  use_idf=1,\n",
              "                                                                                  vocabulary=None))],\n",
              "                                                          verbose=False)),\n",
              "                                                ('stats',\n",
              "                                                 Pipeline(memory=None,\n",
              "                                                          steps=[('selector',\n",
              "                                                                  ItemSelector(key=['polarity',\n",
              "                                                                                    'subjectivity',\n",
              "                                                                                    'len'])),\n",
              "                                                                 ('stats',\n",
              "                                                                  TextStats()),\n",
              "                                                                 ('vect',\n",
              "                                                                  DictVectorizer(dtype=<class 'numpy.float64'>,\n",
              "                                                                                 separator='=',\n",
              "                                                                                 sort=True,\n",
              "                                                                                 sparse=True))],\n",
              "                                                          verbose=False))],\n",
              "                              transformer_weights={'stats': 1.5, 'text': 0.9},\n",
              "                              verbose=False))],\n",
              "         verbose=False)"
            ]
          },
          "metadata": {
            "tags": []
          },
          "execution_count": 156
        }
      ]
    },
    {
      "cell_type": "code",
      "metadata": {
        "id": "b3mGeOJIr_13",
        "colab_type": "code",
        "outputId": "765e43c9-c2c2-49a9-80ca-05ab67157012",
        "colab": {
          "base_uri": "https://localhost:8080/",
          "height": 90
        }
      },
      "source": [
        "%%time\n",
        "train_vec = pipeline.transform(x_train)\n",
        "test_vec = pipeline.transform(x_test)\n",
        "print(\"Checking that the number of features in train and test correspond: %s - %s\" % (train_vec.shape, test_vec.shape))"
      ],
      "execution_count": 0,
      "outputs": [
        {
          "output_type": "stream",
          "text": [
            "Checking that the number of features in train and test correspond: (160682, 490082) - (40171, 490082)\n",
            "CPU times: user 2min 58s, sys: 57.7 ms, total: 2min 58s\n",
            "Wall time: 2min 58s\n"
          ],
          "name": "stdout"
        }
      ]
    },
    {
      "cell_type": "code",
      "metadata": {
        "id": "R-7EctpovoEL",
        "colab_type": "code",
        "colab": {}
      },
      "source": [
        "clf_sv = LinearSVC(C=1, class_weight='balanced', multi_class='ovr', random_state=40, max_iter=10000)\n",
        "clf_sgd = SGDClassifier(max_iter=200,)"
      ],
      "execution_count": 0,
      "outputs": []
    },
    {
      "cell_type": "code",
      "metadata": {
        "id": "_EUWhOj-wSAt",
        "colab_type": "code",
        "outputId": "5f48ca93-437c-4ca7-d11f-2ece453f7488",
        "colab": {
          "base_uri": "https://localhost:8080/",
          "height": 123
        }
      },
      "source": [
        "%%time\n",
        "from sklearn.model_selection import cross_val_score\n",
        "\n",
        "clfs = [clf_sv, clf_sgd]\n",
        "cv = 3\n",
        "\n",
        "for clf in clfs:\n",
        "  scores = cross_val_score(clf,train_vec, y_train, cv=cv, scoring=\"accuracy\")\n",
        "  print(scores)\n",
        "  print((\"Mean score: {0:.3f} (+/-{1:.3f})\").format(\n",
        "      np.mean(scores), np.std(scores)))\n",
        "  "
      ],
      "execution_count": 0,
      "outputs": [
        {
          "output_type": "stream",
          "text": [
            "[0.61867777 0.61651201 0.61622479]\n",
            "Mean score: 0.617 (+/-0.001)\n",
            "[0.56290958 0.56518736 0.56553398]\n",
            "Mean score: 0.565 (+/-0.001)\n",
            "CPU times: user 6min 32s, sys: 36.2 s, total: 7min 8s\n",
            "Wall time: 6min 26s\n"
          ],
          "name": "stdout"
        }
      ]
    },
    {
      "cell_type": "code",
      "metadata": {
        "id": "5JIuDgNxxDVv",
        "colab_type": "code",
        "outputId": "a44b0ec3-4784-48e6-8014-0138ad3d22c3",
        "colab": {
          "base_uri": "https://localhost:8080/",
          "height": 52
        }
      },
      "source": [
        "%%time\n",
        "from sklearn.metrics import classification_report\n",
        "clf_sv.fit(train_vec, y_train)\n",
        "y_pred = clf_sv.predict(test_vec)\n",
        "list_result = []\n",
        "list_result.append((\"SVC\", accuracy_score(y_test, y_pred)))\n",
        "clf_sgd.fit(train_vec, y_train)\n",
        "y_pred = clf_sgd.predict(test_vec)\n",
        "list_result.append((\"SGD\", accuracy_score(y_test, y_pred)))"
      ],
      "execution_count": 0,
      "outputs": [
        {
          "output_type": "stream",
          "text": [
            "CPU times: user 3min 35s, sys: 12.1 s, total: 3min 47s\n",
            "Wall time: 3min 33s\n"
          ],
          "name": "stdout"
        }
      ]
    },
    {
      "cell_type": "code",
      "metadata": {
        "id": "ATdBIYfQxiHt",
        "colab_type": "code",
        "colab": {}
      },
      "source": [
        "# Deep Learning\n"
      ],
      "execution_count": 0,
      "outputs": []
    },
    {
      "cell_type": "code",
      "metadata": {
        "id": "F126N8qiy8vT",
        "colab_type": "code",
        "outputId": "7a5260d2-8238-4c0d-98c3-40d05c9bb661",
        "colab": {
          "base_uri": "https://localhost:8080/",
          "height": 161
        }
      },
      "source": [
        "import spacy\n",
        "!python -m spacy download en"
      ],
      "execution_count": 0,
      "outputs": [
        {
          "output_type": "stream",
          "text": [
            "Requirement already satisfied: en_core_web_sm==2.1.0 from https://github.com/explosion/spacy-models/releases/download/en_core_web_sm-2.1.0/en_core_web_sm-2.1.0.tar.gz#egg=en_core_web_sm==2.1.0 in /usr/local/lib/python3.6/dist-packages (2.1.0)\n",
            "\u001b[38;5;2m✔ Download and installation successful\u001b[0m\n",
            "You can now load the model via spacy.load('en_core_web_sm')\n",
            "\u001b[38;5;2m✔ Linking successful\u001b[0m\n",
            "/usr/local/lib/python3.6/dist-packages/en_core_web_sm -->\n",
            "/usr/local/lib/python3.6/dist-packages/spacy/data/en\n",
            "You can now load the model via spacy.load('en')\n"
          ],
          "name": "stdout"
        }
      ]
    },
    {
      "cell_type": "code",
      "metadata": {
        "id": "9fPWgdRe1T9P",
        "colab_type": "code",
        "outputId": "f74b5f71-13cc-4d5e-b7f6-6b56bd66142f",
        "colab": {
          "base_uri": "https://localhost:8080/",
          "height": 1000
        }
      },
      "source": [
        "pip list"
      ],
      "execution_count": 0,
      "outputs": [
        {
          "output_type": "stream",
          "text": [
            "Package                  Version    \n",
            "------------------------ -----------\n",
            "absl-py                  0.9.0      \n",
            "alabaster                0.7.12     \n",
            "albumentations           0.1.12     \n",
            "altair                   4.0.0      \n",
            "asgiref                  3.2.3      \n",
            "astor                    0.8.1      \n",
            "astropy                  4.0        \n",
            "atari-py                 0.2.6      \n",
            "atomicwrites             1.3.0      \n",
            "attrs                    19.3.0     \n",
            "audioread                2.1.8      \n",
            "autograd                 1.3        \n",
            "Babel                    2.8.0      \n",
            "backcall                 0.1.0      \n",
            "backports.tempfile       1.0        \n",
            "backports.weakref        1.0.post1  \n",
            "beautifulsoup4           4.6.3      \n",
            "bleach                   3.1.0      \n",
            "blis                     0.2.4      \n",
            "bokeh                    1.4.0      \n",
            "boto                     2.49.0     \n",
            "boto3                    1.10.47    \n",
            "botocore                 1.13.47    \n",
            "Bottleneck               1.3.1      \n",
            "branca                   0.3.1      \n",
            "bs4                      0.0.1      \n",
            "bz2file                  0.98       \n",
            "cachetools               4.0.0      \n",
            "certifi                  2019.11.28 \n",
            "cffi                     1.13.2     \n",
            "chainer                  6.5.0      \n",
            "chardet                  3.0.4      \n",
            "chart-studio             1.0.0      \n",
            "Click                    7.0        \n",
            "cloudpickle              1.2.2      \n",
            "cmake                    3.12.0     \n",
            "colorlover               0.3.0      \n",
            "community                1.0.0b1    \n",
            "contextlib2              0.5.5      \n",
            "convertdate              2.2.0      \n",
            "coverage                 3.7.1      \n",
            "coveralls                0.5        \n",
            "crcmod                   1.7        \n",
            "cufflinks                0.17.0     \n",
            "cvxopt                   1.2.3      \n",
            "cvxpy                    1.0.25     \n",
            "cycler                   0.10.0     \n",
            "cymem                    2.0.3      \n",
            "Cython                   0.29.14    \n",
            "daft                     0.0.4      \n",
            "dask                     2.9.1      \n",
            "dataclasses              0.7        \n",
            "datascience              0.10.6     \n",
            "decorator                4.4.1      \n",
            "defusedxml               0.6.0      \n",
            "descartes                1.1.0      \n",
            "dill                     0.3.1.1    \n",
            "distributed              1.25.3     \n",
            "Django                   3.0.2      \n",
            "dlib                     19.18.0    \n",
            "dm-sonnet                1.35       \n",
            "docopt                   0.6.2      \n",
            "docutils                 0.15.2     \n",
            "dopamine-rl              1.0.5      \n",
            "earthengine-api          0.1.209    \n",
            "easydict                 1.9        \n",
            "ecos                     2.0.7.post1\n",
            "editdistance             0.5.3      \n",
            "en-core-web-lg           2.1.0      \n",
            "en-core-web-sm           2.1.0      \n",
            "entrypoints              0.3        \n",
            "et-xmlfile               1.0.1      \n",
            "fa2                      0.3.5      \n",
            "fancyimpute              0.4.3      \n",
            "fastai                   1.0.60     \n",
            "fastcache                1.1.0      \n",
            "fastdtw                  0.3.4      \n",
            "fastprogress             0.2.2      \n",
            "fastrlock                0.4        \n",
            "fbprophet                0.5        \n",
            "feather-format           0.4.0      \n",
            "featuretools             0.4.1      \n",
            "filelock                 3.0.12     \n",
            "fix-yahoo-finance        0.0.22     \n",
            "Flask                    1.1.1      \n",
            "folium                   0.8.3      \n",
            "fsspec                   0.6.2      \n",
            "future                   0.16.0     \n",
            "gast                     0.2.2      \n",
            "GDAL                     2.2.2      \n",
            "gdown                    3.6.4      \n",
            "gensim                   3.6.0      \n",
            "geographiclib            1.50       \n",
            "geopy                    1.17.0     \n",
            "gevent                   1.4.0      \n",
            "gin-config               0.3.0      \n",
            "glob2                    0.7        \n",
            "google                   2.0.3      \n",
            "google-api-core          1.15.0     \n",
            "google-api-python-client 1.7.11     \n",
            "google-auth              1.4.2      \n",
            "google-auth-httplib2     0.0.3      \n",
            "google-auth-oauthlib     0.4.1      \n",
            "google-cloud-bigquery    1.21.0     \n",
            "google-cloud-core        1.0.3      \n",
            "google-cloud-datastore   1.8.0      \n",
            "google-cloud-language    1.2.0      \n",
            "google-cloud-storage     1.16.2     \n",
            "google-cloud-translate   1.5.0      \n",
            "google-colab             1.0.0      \n",
            "google-pasta             0.1.8      \n",
            "google-resumable-media   0.4.1      \n",
            "googleapis-common-protos 1.6.0      \n",
            "googledrivedownloader    0.4        \n",
            "graph-nets               1.0.5      \n",
            "graphviz                 0.10.1     \n",
            "greenlet                 0.4.15     \n",
            "grpcio                   1.15.0     \n",
            "gspread                  3.0.1      \n",
            "gspread-dataframe        3.0.3      \n",
            "gunicorn                 20.0.4     \n",
            "gym                      0.15.4     \n",
            "h5py                     2.8.0      \n",
            "HeapDict                 1.0.1      \n",
            "holidays                 0.9.12     \n",
            "html5lib                 1.0.1      \n",
            "httpimport               0.5.18     \n",
            "httplib2                 0.11.3     \n",
            "humanize                 0.5.1      \n",
            "hyperopt                 0.1.2      \n",
            "ideep4py                 2.0.0.post3\n",
            "idna                     2.8        \n",
            "image                    1.5.27     \n",
            "imageio                  2.4.1      \n",
            "imagesize                1.2.0      \n",
            "imbalanced-learn         0.4.3      \n",
            "imblearn                 0.0        \n",
            "imgaug                   0.2.9      \n",
            "importlib-metadata       1.3.0      \n",
            "imutils                  0.5.3      \n",
            "inflect                  2.1.0      \n",
            "intel-openmp             2020.0.133 \n",
            "intervaltree             2.1.0      \n",
            "ipykernel                4.6.1      \n",
            "ipython                  5.5.0      \n",
            "ipython-genutils         0.2.0      \n",
            "ipython-sql              0.3.9      \n",
            "ipywidgets               7.5.1      \n",
            "itsdangerous             1.1.0      \n",
            "jax                      0.1.52     \n",
            "jaxlib                   0.1.36     \n",
            "jdcal                    1.4.1      \n",
            "jedi                     0.15.2     \n",
            "jieba                    0.40       \n",
            "Jinja2                   2.10.3     \n",
            "jmespath                 0.9.4      \n",
            "joblib                   0.14.1     \n",
            "jpeg4py                  0.1.4      \n",
            "jsonschema               2.6.0      \n",
            "jupyter                  1.0.0      \n",
            "jupyter-client           5.3.4      \n",
            "jupyter-console          5.2.0      \n",
            "jupyter-core             4.6.1      \n",
            "kaggle                   1.5.6      \n",
            "kapre                    0.1.3.1    \n",
            "Keras                    2.2.5      \n",
            "Keras-Applications       1.0.8      \n",
            "Keras-Preprocessing      1.1.0      \n",
            "keras-vis                0.4.1      \n",
            "kfac                     0.2.0      \n",
            "kiwisolver               1.1.0      \n",
            "knnimpute                0.1.0      \n",
            "librosa                  0.6.3      \n",
            "lightgbm                 2.2.3      \n",
            "llvmlite                 0.31.0     \n",
            "lmdb                     0.98       \n",
            "lucid                    0.3.8      \n",
            "lunardate                0.2.0      \n",
            "lxml                     4.2.6      \n",
            "magenta                  0.3.19     \n",
            "Markdown                 3.1.1      \n",
            "MarkupSafe               1.1.1      \n",
            "matplotlib               3.1.2      \n",
            "matplotlib-venn          0.11.5     \n",
            "mesh-tensorflow          0.1.8      \n",
            "mido                     1.2.6      \n",
            "mir-eval                 0.5        \n",
            "missingno                0.4.2      \n",
            "mistune                  0.8.4      \n",
            "mizani                   0.6.0      \n",
            "mkl                      2019.0     \n",
            "mlxtend                  0.14.0     \n",
            "more-itertools           8.0.2      \n",
            "moviepy                  0.2.3.5    \n",
            "mpi4py                   3.0.3      \n",
            "mpmath                   1.1.0      \n",
            "msgpack                  0.5.6      \n",
            "multiprocess             0.70.9     \n",
            "multitasking             0.0.9      \n",
            "murmurhash               1.0.2      \n",
            "music21                  5.5.0      \n",
            "natsort                  5.5.0      \n",
            "nbconvert                5.6.1      \n",
            "nbformat                 5.0.3      \n",
            "networkx                 2.4        \n",
            "nibabel                  2.3.3      \n",
            "nltk                     3.2.5      \n",
            "notebook                 5.2.2      \n",
            "np-utils                 0.5.12.1   \n",
            "numba                    0.47.0     \n",
            "numexpr                  2.7.1      \n",
            "numpy                    1.17.5     \n",
            "nvidia-ml-py3            7.352.0    \n",
            "oauth2client             4.1.3      \n",
            "oauthlib                 3.1.0      \n",
            "okgrade                  0.4.3      \n",
            "opencv-contrib-python    4.1.2.30   \n",
            "opencv-python            4.1.2.30   \n",
            "openpyxl                 2.5.9      \n",
            "opt-einsum               3.1.0      \n",
            "osqp                     0.6.1      \n",
            "packaging                20.0       \n",
            "palettable               3.3.0      \n",
            "pandas                   0.25.3     \n",
            "pandas-datareader        0.7.4      \n",
            "pandas-gbq               0.11.0     \n",
            "pandas-profiling         1.4.1      \n",
            "pandocfilters            1.4.2      \n",
            "parso                    0.5.2      \n",
            "pathlib                  1.0.1      \n",
            "patsy                    0.5.1      \n",
            "pexpect                  4.7.0      \n",
            "pickleshare              0.7.5      \n",
            "Pillow                   6.2.2      \n",
            "pip                      19.3.1     \n",
            "pip-tools                4.2.0      \n",
            "plac                     0.9.6      \n",
            "plotly                   4.4.1      \n",
            "plotnine                 0.6.0      \n",
            "pluggy                   0.7.1      \n",
            "portpicker               1.2.0      \n",
            "prefetch-generator       1.0.1      \n",
            "preshed                  2.0.1      \n",
            "pretty-midi              0.2.8      \n",
            "prettytable              0.7.2      \n",
            "progressbar2             3.38.0     \n",
            "prometheus-client        0.7.1      \n",
            "promise                  2.3        \n",
            "prompt-toolkit           1.0.18     \n",
            "protobuf                 3.10.0     \n",
            "psutil                   5.4.8      \n",
            "psycopg2                 2.7.6.1    \n",
            "ptyprocess               0.6.0      \n",
            "py                       1.8.1      \n",
            "pyarrow                  0.14.1     \n",
            "pyasn1                   0.4.8      \n",
            "pyasn1-modules           0.2.7      \n",
            "pycocotools              2.0.0      \n",
            "pycparser                2.19       \n",
            "pydata-google-auth       0.2.1      \n",
            "pydot                    1.3.0      \n",
            "pydot-ng                 2.0.0      \n",
            "pydotplus                2.0.2      \n",
            "PyDrive                  1.3.1      \n",
            "pyemd                    0.5.1      \n",
            "pyglet                   1.3.2      \n",
            "Pygments                 2.1.3      \n",
            "pygobject                3.26.1     \n",
            "pymc3                    3.7        \n",
            "PyMeeus                  0.3.6      \n",
            "pymongo                  3.10.0     \n",
            "pymystem3                0.2.0      \n",
            "PyOpenGL                 3.1.5      \n",
            "pyparsing                2.4.6      \n",
            "pypng                    0.0.20     \n",
            "pyrsistent               0.15.7     \n",
            "pysndfile                1.3.8      \n",
            "PySocks                  1.7.1      \n",
            "pystan                   2.19.1.1   \n",
            "pytest                   3.6.4      \n",
            "python-apt               1.6.4      \n",
            "python-chess             0.23.11    \n",
            "python-dateutil          2.6.1      \n",
            "python-louvain           0.13       \n",
            "python-rtmidi            1.3.1      \n",
            "python-slugify           4.0.0      \n",
            "python-utils             2.3.0      \n",
            "pytz                     2018.9     \n",
            "PyWavelets               1.1.1      \n",
            "PyYAML                   3.13       \n",
            "pyzmq                    17.0.0     \n",
            "qtconsole                4.6.0      \n",
            "regex                    2019.12.20 \n",
            "requests                 2.21.0     \n",
            "requests-oauthlib        1.3.0      \n",
            "resampy                  0.2.2      \n",
            "retrying                 1.3.3      \n",
            "rpy2                     2.9.5      \n",
            "rsa                      4.0        \n",
            "s3fs                     0.4.0      \n",
            "s3transfer               0.2.1      \n",
            "scikit-image             0.16.2     \n",
            "scikit-learn             0.22.1     \n",
            "scipy                    1.4.1      \n",
            "screen-resolution-extra  0.0.0      \n",
            "scs                      2.1.1.post2\n",
            "seaborn                  0.9.0      \n",
            "semantic-version         2.8.4      \n",
            "Send2Trash               1.5.0      \n",
            "setuptools               42.0.2     \n",
            "setuptools-git           1.2        \n",
            "Shapely                  1.6.4.post2\n",
            "simplegeneric            0.8.1      \n",
            "six                      1.12.0     \n",
            "sklearn                  0.0        \n",
            "sklearn-pandas           1.8.0      \n",
            "smart-open               1.9.0      \n",
            "snowballstemmer          2.0.0      \n",
            "sortedcontainers         2.1.0      \n",
            "spacy                    2.1.9      \n",
            "Sphinx                   1.8.5      \n",
            "sphinxcontrib-websupport 1.1.2      \n",
            "SQLAlchemy               1.3.12     \n",
            "sqlparse                 0.3.0      \n",
            "srsly                    1.0.1      \n",
            "stable-baselines         2.2.1      \n",
            "statsmodels              0.10.2     \n",
            "sympy                    1.1.1      \n",
            "tables                   3.4.4      \n",
            "tabulate                 0.8.6      \n",
            "tblib                    1.6.0      \n",
            "tensor2tensor            1.14.1     \n",
            "tensorboard              1.15.0     \n",
            "tensorboardcolab         0.0.22     \n",
            "tensorflow               1.15.0     \n",
            "tensorflow-datasets      1.3.2      \n",
            "tensorflow-estimator     1.15.1     \n",
            "tensorflow-gan           2.0.0      \n",
            "tensorflow-hub           0.7.0      \n",
            "tensorflow-metadata      0.15.2     \n",
            "tensorflow-privacy       0.2.2      \n",
            "tensorflow-probability   0.7.0      \n",
            "termcolor                1.1.0      \n",
            "terminado                0.8.3      \n",
            "testpath                 0.4.4      \n",
            "text-unidecode           1.3        \n",
            "textblob                 0.15.3     \n",
            "textgenrnn               1.4.1      \n",
            "tflearn                  0.3.2      \n",
            "Theano                   1.0.4      \n",
            "thinc                    7.0.8      \n",
            "toolz                    0.10.0     \n",
            "torch                    1.3.1      \n",
            "torchsummary             1.5.1      \n",
            "torchtext                0.3.1      \n",
            "torchvision              0.4.2      \n",
            "tornado                  4.5.3      \n",
            "tqdm                     4.28.1     \n",
            "traitlets                4.3.3      \n",
            "tweepy                   3.6.0      \n",
            "typing                   3.6.6      \n",
            "typing-extensions        3.6.6      \n",
            "tzlocal                  1.5.1      \n",
            "umap-learn               0.3.10     \n",
            "uritemplate              3.0.1      \n",
            "urllib3                  1.24.3     \n",
            "vega-datasets            0.8.0      \n",
            "wasabi                   0.6.0      \n",
            "wcwidth                  0.1.8      \n",
            "webencodings             0.5.1      \n",
            "Werkzeug                 0.16.0     \n",
            "wheel                    0.33.6     \n",
            "widgetsnbextension       3.5.1      \n",
            "wordcloud                1.5.0      \n",
            "wrapt                    1.11.2     \n",
            "xarray                   0.14.1     \n",
            "xgboost                  0.90       \n",
            "xkit                     0.0.0      \n",
            "xlrd                     1.1.0      \n",
            "xlwt                     1.3.0      \n",
            "yellowbrick              0.9.1      \n",
            "zict                     1.0.0      \n",
            "zipp                     0.6.0      \n",
            "zmq                      0.0.0      \n"
          ],
          "name": "stdout"
        }
      ]
    },
    {
      "cell_type": "code",
      "metadata": {
        "id": "G2szYz-7zIyv",
        "colab_type": "code",
        "colab": {}
      },
      "source": [
        "nlp = spacy.load('en_core_web_sm')"
      ],
      "execution_count": 0,
      "outputs": []
    },
    {
      "cell_type": "code",
      "metadata": {
        "id": "iTAXeqenz60F",
        "colab_type": "code",
        "outputId": "cca0fde2-2475-4a01-a2e4-f793ac0e4889",
        "colab": {
          "base_uri": "https://localhost:8080/",
          "height": 34
        }
      },
      "source": [
        "%tensorflow_version 2.x"
      ],
      "execution_count": 0,
      "outputs": [
        {
          "output_type": "stream",
          "text": [
            "TensorFlow is already loaded. Please restart the runtime to change versions.\n"
          ],
          "name": "stdout"
        }
      ]
    },
    {
      "cell_type": "code",
      "metadata": {
        "id": "apBI6yDp1bWT",
        "colab_type": "code",
        "colab": {}
      },
      "source": [
        "from keras.preprocessing.text import Tokenizer\n",
        "from keras.models import Sequential\n",
        "from keras.layers import Activation, Dense, Dropout, LSTM, Embedding\n",
        "from sklearn.preprocessing import LabelBinarizer\n",
        "from keras.preprocessing.text import Tokenizer, text_to_word_sequence\n",
        "from keras.preprocessing.sequence import pad_sequences\n",
        "from keras.utils import np_utils\n",
        "from keras.layers import Dense, Input, LSTM, Bidirectional, Activation, Conv1D, GRU, TimeDistributed\n",
        "from keras.layers import Dropout, Embedding, GlobalMaxPooling1D, MaxPooling1D, Add, Flatten, SpatialDropout1D\n",
        "from keras.layers import GlobalAveragePooling1D, BatchNormalization, concatenate\n",
        "from keras.layers import Reshape, merge, Concatenate, Lambda, Average\n",
        "from keras import backend as K\n",
        "from keras.engine.topology import Layer\n",
        "from keras import initializers, regularizers, constraints"
      ],
      "execution_count": 0,
      "outputs": []
    },
    {
      "cell_type": "code",
      "metadata": {
        "id": "P-BWN_Cb1Jft",
        "colab_type": "code",
        "colab": {}
      },
      "source": [
        "from sklearn.model_selection import train_test_split\n",
        "import time\n",
        "\n",
        "X = df_news['text']\n",
        "y = df_news['category']\n",
        "encoder = LabelEncoder()\n",
        "y = encoder.fit_transform(y)\n",
        "Y = np_utils.to_categorical(y)\n",
        "\n",
        "vectorizer = TfidfVectorizer(min_df = 3, max_df = 0.2, max_features=None,\n",
        "             strip_accents='unicode', analyzer='word',token_pattern=r'\\w{1,}',\n",
        "             use_idf=1, smooth_idf=1, sublinear_tf=1,\n",
        "             stop_words = None, preprocessor=clean_txt)\n"
      ],
      "execution_count": 0,
      "outputs": []
    },
    {
      "cell_type": "code",
      "metadata": {
        "id": "Ca2y5k4zBlX2",
        "colab_type": "code",
        "outputId": "c498148b-147b-4e7d-a1be-9c2db87a5104",
        "colab": {
          "base_uri": "https://localhost:8080/",
          "height": 158
        }
      },
      "source": [
        "seed = 40\n",
        "x_train, x_test, y_train, y_test = train_test_split(X, Y, test_size=0.2,random_state=seed, stratify=y)\n",
        "vectorizer.fit(x_train)"
      ],
      "execution_count": 0,
      "outputs": [
        {
          "output_type": "execute_result",
          "data": {
            "text/plain": [
              "TfidfVectorizer(analyzer='word', binary=False, decode_error='strict',\n",
              "                dtype=<class 'numpy.float64'>, encoding='utf-8',\n",
              "                input='content', lowercase=True, max_df=0.2, max_features=None,\n",
              "                min_df=3, ngram_range=(1, 1), norm='l2',\n",
              "                preprocessor=<function clean_txt at 0x7f01d9befa60>,\n",
              "                smooth_idf=1, stop_words=None, strip_accents='unicode',\n",
              "                sublinear_tf=1, token_pattern='\\\\w{1,}', tokenizer=None,\n",
              "                use_idf=1, vocabulary=None)"
            ]
          },
          "metadata": {
            "tags": []
          },
          "execution_count": 167
        }
      ]
    },
    {
      "cell_type": "code",
      "metadata": {
        "id": "SLr9440-B2AO",
        "colab_type": "code",
        "outputId": "0577fa0d-2710-4c13-93b8-0c93b73289de",
        "colab": {
          "base_uri": "https://localhost:8080/",
          "height": 54
        }
      },
      "source": [
        "word2idx = {word: idx for idx, word in enumerate(vectorizer.get_feature_names())}\n",
        "tokenize = vectorizer.build_tokenizer()\n",
        "preprocess = vectorizer.build_preprocessor()\n",
        "\n",
        "def to_sequence(tokenizer, preprocessor, index, text):\n",
        "  words = tokenizer(preprocessor(text))\n",
        "  indexes = [index[word] for word in words if word in index]\n",
        "  return indexes\n",
        "\n",
        "X_train_sequences = [to_sequence(tokenize, preprocess, word2idx, x) for x in x_train]\n",
        "print(X_train_sequences[0])"
      ],
      "execution_count": 0,
      "outputs": [
        {
          "output_type": "stream",
          "text": [
            "[18918, 12092, 25916, 19724, 25516, 20972, 29660, 12748, 28727, 26207, 24863, 18762, 27844, 24616]\n"
          ],
          "name": "stdout"
        }
      ]
    },
    {
      "cell_type": "code",
      "metadata": {
        "id": "nit9_TTOCsSW",
        "colab_type": "code",
        "outputId": "03e4df9a-e178-416b-c31c-1423f30c728a",
        "colab": {
          "base_uri": "https://localhost:8080/",
          "height": 105
        }
      },
      "source": [
        "# Compute the max length of a text\n",
        "MAX_SEQ_LENGTH = 60\n",
        "\n",
        "N_FEATURES = len(vectorizer.get_feature_names())\n",
        "X_train_sequences = pad_sequences(X_train_sequences, maxlen=MAX_SEQ_LENGTH, value=N_FEATURES)\n",
        "print(X_train_sequences[0])\n"
      ],
      "execution_count": 0,
      "outputs": [
        {
          "output_type": "stream",
          "text": [
            "[30373 30373 30373 30373 30373 30373 30373 30373 30373 30373 30373 30373\n",
            " 30373 30373 30373 30373 30373 30373 30373 30373 30373 30373 30373 30373\n",
            " 30373 30373 30373 30373 30373 30373 30373 30373 30373 30373 30373 30373\n",
            " 30373 30373 30373 30373 30373 30373 30373 30373 30373 30373 18918 12092\n",
            " 25916 19724 25516 20972 29660 12748 28727 26207 24863 18762 27844 24616]\n"
          ],
          "name": "stdout"
        }
      ]
    },
    {
      "cell_type": "code",
      "metadata": {
        "id": "fQJDFgfUDCKP",
        "colab_type": "code",
        "colab": {}
      },
      "source": [
        "X_test_sequences = [to_sequence(tokenize, preprocess, word2idx, x) for x in x_test]\n",
        "X_test_sequences = pad_sequences(X_test_sequences, maxlen=MAX_SEQ_LENGTH, value=N_FEATURES)"
      ],
      "execution_count": 0,
      "outputs": []
    },
    {
      "cell_type": "code",
      "metadata": {
        "id": "5uTMbY7kDWNJ",
        "colab_type": "code",
        "outputId": "ab8b6b91-9ba3-4b27-cd13-fd5dee1beff9",
        "colab": {
          "base_uri": "https://localhost:8080/",
          "height": 34
        }
      },
      "source": [
        "# SPACY EMBEDDING\n",
        "\n",
        "EMBEDDING_LEN = 300\n",
        "embeddings_index = np.zeros((len(vectorizer.get_feature_names()) + 1, EMBEDDING_LEN))\n",
        "for word, idx in word2idx.items():\n",
        "  try:\n",
        "    embedding = nlp.vocab[word].vector\n",
        "    embeddings_index[idx] = embedding\n",
        "  except:\n",
        "    pass\n",
        "\n",
        "print(\"EMBEDDINGS_LEN=\", EMBEDDING_LEN)"
      ],
      "execution_count": 0,
      "outputs": [
        {
          "output_type": "stream",
          "text": [
            "EMBEDDINGS_LEN= 300\n"
          ],
          "name": "stdout"
        }
      ]
    },
    {
      "cell_type": "code",
      "metadata": {
        "id": "0RClT1etFkya",
        "colab_type": "code",
        "outputId": "ca2e064e-88c5-4434-bc55-5b7cdf4621cb",
        "colab": {
          "base_uri": "https://localhost:8080/",
          "height": 283
        }
      },
      "source": [
        "# Simple LSTM Model\n",
        "\n",
        "model = Sequential()\n",
        "model.add(Embedding(len(vectorizer.get_feature_names()) + 1,\n",
        "                    EMBEDDING_LEN,\n",
        "                    weights=[embeddings_index],\n",
        "                    input_length=MAX_SEQ_LENGTH,\n",
        "                    trainable=False))\n",
        "model.add(LSTM(300, dropout=0.2))\n",
        "model.add(Dense(len(set(y)), activation='softmax'))\n",
        "\n",
        "model.compile(loss='categorical_crossentropy', optimizer='adam', metrics=['accuracy'])\n",
        "print(model.summary())\n"
      ],
      "execution_count": 0,
      "outputs": [
        {
          "output_type": "stream",
          "text": [
            "Model: \"sequential_2\"\n",
            "_________________________________________________________________\n",
            "Layer (type)                 Output Shape              Param #   \n",
            "=================================================================\n",
            "embedding_2 (Embedding)      (None, 60, 300)           9112200   \n",
            "_________________________________________________________________\n",
            "lstm_2 (LSTM)                (None, 300)               721200    \n",
            "_________________________________________________________________\n",
            "dense_2 (Dense)              (None, 40)                12040     \n",
            "=================================================================\n",
            "Total params: 9,845,440\n",
            "Trainable params: 733,240\n",
            "Non-trainable params: 9,112,200\n",
            "_________________________________________________________________\n",
            "None\n"
          ],
          "name": "stdout"
        }
      ]
    },
    {
      "cell_type": "code",
      "metadata": {
        "id": "yEaIhpChGaaH",
        "colab_type": "code",
        "outputId": "10f30355-74b1-43bc-b7b3-54a9b6636d80",
        "colab": {
          "base_uri": "https://localhost:8080/",
          "height": 125
        }
      },
      "source": [
        "model.fit(X_train_sequences, y_train,\n",
        "          epochs=1, batch_size=128, verbose=1,\n",
        "          validation_split=0.1)\n",
        "\n",
        "scores = model.evaluate(X_test_sequences, y_test, verbose=1)\n",
        "print(\"Accuracy:\", scores[1])\n",
        "list_result.append((\"LSTM Simple\", scores[1]))"
      ],
      "execution_count": 0,
      "outputs": [
        {
          "output_type": "stream",
          "text": [
            "Train on 144613 samples, validate on 16069 samples\n",
            "Epoch 1/1\n",
            "144613/144613 [==============================] - 548s 4ms/step - loss: 3.2713 - acc: 0.1632 - val_loss: 3.2673 - val_acc: 0.1599\n",
            "40171/40171 [==============================] - 77s 2ms/step\n",
            "Accuracy: 0.16300316148539498\n"
          ],
          "name": "stdout"
        }
      ]
    },
    {
      "cell_type": "code",
      "metadata": {
        "id": "Jt2U1WfCG7mD",
        "colab_type": "code",
        "outputId": "a958d484-d2f7-47cd-c9c5-19a9ac56e5c8",
        "colab": {
          "base_uri": "https://localhost:8080/",
          "height": 34
        }
      },
      "source": [
        "len(x_train.keys())"
      ],
      "execution_count": 0,
      "outputs": [
        {
          "output_type": "execute_result",
          "data": {
            "text/plain": [
              "160682"
            ]
          },
          "metadata": {
            "tags": []
          },
          "execution_count": 174
        }
      ]
    },
    {
      "cell_type": "code",
      "metadata": {
        "id": "21k-XPblT-Mz",
        "colab_type": "code",
        "outputId": "43c3d247-306e-41f3-d2a7-bfe06552fb7e",
        "colab": {
          "base_uri": "https://localhost:8080/",
          "height": 52
        }
      },
      "source": [
        "# Top Word by Category\n",
        "%%time\n",
        "vectorizer = TfidfVectorizer( min_df =3, max_df=0.2, max_features=None, \n",
        "                    strip_accents='unicode', analyzer='word',token_pattern=r'\\w{1,}',\n",
        "                    ngram_range=(1, 1), use_idf=1,smooth_idf=1,sublinear_tf=1,\n",
        "                    stop_words = None, preprocessor=clean_txt)\n",
        "vectorizer.fit(df_news.category)"
      ],
      "execution_count": 0,
      "outputs": [
        {
          "output_type": "stream",
          "text": [
            "CPU times: user 22.3 s, sys: 1.05 ms, total: 22.3 s\n",
            "Wall time: 22.3 s\n"
          ],
          "name": "stdout"
        }
      ]
    },
    {
      "cell_type": "code",
      "metadata": {
        "id": "wYcdoe4SUIdU",
        "colab_type": "code",
        "outputId": "1f7dba55-2ba5-4fae-f789-283cbdbd28b6",
        "colab": {
          "base_uri": "https://localhost:8080/",
          "height": 1000
        }
      },
      "source": [
        "\n",
        "def create_tf_matrix(category):\n",
        "    return vectorizer.transform(data_news[data_news.category == category].text)\n",
        "\n",
        "def create_term_freq(matrix, cat):\n",
        "  category_words = matrix.sum(axis=0)\n",
        "  category_words_freq = [(word, category_words[0, idx]) for word, idx in vectorizer.vocabulary_.items()]\n",
        "  return pd.DataFrame(list(sorted(category_words_freq, key = lambda x: x[1], reverse=True)),columns=['Terms', cat])\n",
        "\n",
        "for cat in data_news.category.unique():\n",
        "  print(\"Top 10 terms for: \", cat)\n",
        "  data_right = create_term_freq(create_tf_matrix(cat), cat).head(10)\n",
        "  print(data_right)\n",
        "  print(\"###############\")\n",
        "  if cat != 'CRIME':\n",
        "    data_top_5_words = data_top_5_words.merge(data_right, how='outer')\n",
        "  else:\n",
        "    data_top_5_words = data_right.copy()\n",
        "  print(data_top_5_words.shape )"
      ],
      "execution_count": 178,
      "outputs": [
        {
          "output_type": "stream",
          "text": [
            "Top 10 terms for:  CRIME\n",
            "     Terms       CRIME\n",
            "0     home  122.517305\n",
            "1    crime   61.279350\n",
            "2    black   54.476328\n",
            "3    drink   50.031233\n",
            "4     live   47.139003\n",
            "5   parent   42.693406\n",
            "6    women   42.479414\n",
            "7  college   26.158697\n",
            "8     good   24.568367\n",
            "9    money   22.500460\n",
            "###############\n",
            "(10, 2)\n",
            "Top 10 terms for:  ENTERTAINMENT\n",
            "    Terms  ENTERTAINMENT\n",
            "0    live     355.583038\n",
            "1    good     332.114853\n",
            "2   world     330.468066\n",
            "3   women     238.802942\n",
            "4   black     204.410883\n",
            "5    home     152.869068\n",
            "6    news     147.013600\n",
            "7  comedy     145.183818\n",
            "8   media     113.689581\n",
            "9   voice     109.148221\n",
            "###############\n",
            "(15, 3)\n",
            "Top 10 terms for:  WORLD NEWS\n",
            "    Terms  WORLD NEWS\n",
            "0   world  105.988029\n",
            "1   women   57.656851\n",
            "2    news   43.054534\n",
            "3   media   30.022364\n",
            "4    live   26.950154\n",
            "5    home   26.794834\n",
            "6    good   15.218533\n",
            "7   black   13.506478\n",
            "8  travel   12.679764\n",
            "9    food   12.658104\n",
            "###############\n",
            "(17, 4)\n",
            "Top 10 terms for:  IMPACT\n",
            "       Terms      IMPACT\n",
            "0      world  335.053516\n",
            "1      women  219.695913\n",
            "2       live  218.450554\n",
            "3       good  105.823412\n",
            "4       food  105.251846\n",
            "5  education   98.093954\n",
            "6       home   90.961893\n",
            "7     impact   74.340215\n",
            "8      money   61.243602\n",
            "9     parent   48.704086\n",
            "###############\n",
            "(19, 5)\n",
            "Top 10 terms for:  POLITICS\n",
            "      Terms    POLITICS\n",
            "0      news  881.908206\n",
            "1      good  537.702609\n",
            "2     women  524.135787\n",
            "3     world  519.123758\n",
            "4      live  491.980912\n",
            "5     money  438.143034\n",
            "6     media  371.312353\n",
            "7     black  345.560175\n",
            "8  politics  336.394576\n",
            "9      home  256.663604\n",
            "###############\n",
            "(20, 6)\n",
            "Top 10 terms for:  WEIRD NEWS\n",
            "   Terms  WEIRD NEWS\n",
            "0  world   56.190287\n",
            "1   good   52.501900\n",
            "2  weird   49.462896\n",
            "3   home   44.471867\n",
            "4   live   43.482904\n",
            "5   news   42.922464\n",
            "6  drink   41.483483\n",
            "7   food   25.330107\n",
            "8  sport   15.251457\n",
            "9  taste   14.461086\n",
            "###############\n",
            "(23, 7)\n",
            "Top 10 terms for:  BLACK VOICES\n",
            "     Terms  BLACK VOICES\n",
            "0    black   1116.879696\n",
            "1     live    180.044200\n",
            "2    women    140.279360\n",
            "3    world     74.301435\n",
            "4    style     69.524882\n",
            "5     home     57.619787\n",
            "6    voice     51.484883\n",
            "7    media     47.124759\n",
            "8  college     46.283058\n",
            "9     news     42.344222\n",
            "###############\n",
            "(24, 8)\n",
            "Top 10 terms for:  WOMEN\n",
            "     Terms       WOMEN\n",
            "0    women  997.416503\n",
            "1    world  112.010474\n",
            "2     live   99.361691\n",
            "3     good   76.134828\n",
            "4  culture   44.585940\n",
            "5    media   34.918636\n",
            "6    black   30.118057\n",
            "7     home   27.952820\n",
            "8    voice   27.127239\n",
            "9     news   26.019671\n",
            "###############\n",
            "(25, 9)\n",
            "Top 10 terms for:  COMEDY\n",
            "    Terms      COMEDY\n",
            "0    live  182.440941\n",
            "1    news  116.927398\n",
            "2   world  103.020249\n",
            "3  comedy   97.091258\n",
            "4    good   91.858918\n",
            "5   women   54.545127\n",
            "6   drink   51.335562\n",
            "7    home   50.589363\n",
            "8   black   50.321627\n",
            "9   media   35.292733\n",
            "###############\n",
            "(25, 10)\n",
            "Top 10 terms for:  QUEER VOICES\n",
            "     Terms  QUEER VOICES\n",
            "0    queer    505.914078\n",
            "1     live    228.736377\n",
            "2    world    209.927036\n",
            "3    women    133.429040\n",
            "4   parent    103.573457\n",
            "5     good     88.345624\n",
            "6    black     85.246958\n",
            "7     news     81.678208\n",
            "8  culture     78.234736\n",
            "9    media     71.240357\n",
            "###############\n",
            "(26, 11)\n",
            "Top 10 terms for:  SPORTS\n",
            "     Terms      SPORTS\n",
            "0    sport  261.082931\n",
            "1    world  254.535766\n",
            "2     live  144.771644\n",
            "3  college   99.703623\n",
            "4     good   91.185260\n",
            "5    women   63.387473\n",
            "6     home   59.329693\n",
            "7    green   41.766921\n",
            "8     news   32.910236\n",
            "9    money   32.116693\n",
            "###############\n",
            "(27, 12)\n",
            "Top 10 terms for:  BUSINESS\n",
            "      Terms    BUSINESS\n",
            "0  business  510.627034\n",
            "1     women  268.007498\n",
            "2     world  216.811293\n",
            "3     money  145.103642\n",
            "4      good  133.746050\n",
            "5      live  102.385139\n",
            "6      home  100.833187\n",
            "7     media   83.239485\n",
            "8      food   79.603010\n",
            "9     black   71.490128\n",
            "###############\n",
            "(28, 13)\n",
            "Top 10 terms for:  TRAVEL\n",
            "      Terms       TRAVEL\n",
            "0    travel  1475.321927\n",
            "1     world   817.272358\n",
            "2      home   294.915579\n",
            "3      live   226.273708\n",
            "4      good   218.134741\n",
            "5      food   205.263228\n",
            "6   culture   133.754303\n",
            "7     drink   104.436509\n",
            "8     style    83.850868\n",
            "9  business    79.703414\n",
            "###############\n",
            "(28, 14)\n",
            "Top 10 terms for:  MEDIA\n",
            "      Terms       MEDIA\n",
            "0      news  508.036916\n",
            "1     media  295.166635\n",
            "2     world   60.430502\n",
            "3      live   59.057204\n",
            "4     women   49.455152\n",
            "5  business   31.329163\n",
            "6      good   28.228202\n",
            "7     black   20.251704\n",
            "8  politics   17.543452\n",
            "9   culture   17.110672\n",
            "###############\n",
            "(28, 15)\n",
            "Top 10 terms for:  TECH\n",
            "      Terms        TECH\n",
            "0      tech  109.972422\n",
            "1     world   77.199016\n",
            "2     media   58.646297\n",
            "3      news   50.334676\n",
            "4      live   41.309562\n",
            "5      good   36.367120\n",
            "6  business   32.610235\n",
            "7     black   29.331459\n",
            "8     women   28.384441\n",
            "9      home   27.409664\n",
            "###############\n",
            "(29, 16)\n",
            "Top 10 terms for:  RELIGION\n",
            "      Terms    RELIGION\n",
            "0     world  138.387292\n",
            "1  religion  109.462989\n",
            "2      live   70.954779\n",
            "3      good   60.977189\n",
            "4     women   56.229298\n",
            "5     black   31.723237\n",
            "6      home   24.228565\n",
            "7      news   23.432846\n",
            "8     voice   18.812460\n",
            "9   science   15.107684\n",
            "###############\n",
            "(31, 17)\n",
            "Top 10 terms for:  SCIENCE\n",
            "     Terms     SCIENCE\n",
            "0  science  154.936808\n",
            "1    world   80.308812\n",
            "2     live   58.333695\n",
            "3    black   36.186650\n",
            "4     good   32.596792\n",
            "5    women   28.358603\n",
            "6     home   19.219829\n",
            "7     food   18.939356\n",
            "8     news   17.641045\n",
            "9   travel   16.295536\n",
            "###############\n",
            "(31, 18)\n",
            "Top 10 terms for:  LATINO VOICES\n",
            "     Terms  LATINO VOICES\n",
            "0   latino     149.947297\n",
            "1     live      38.716331\n",
            "2    women      26.752656\n",
            "3    world      25.539588\n",
            "4    black      19.091176\n",
            "5     good      14.475711\n",
            "6     home      14.130862\n",
            "7  culture      13.838337\n",
            "8   parent      12.068709\n",
            "9    media      11.262557\n",
            "###############\n",
            "(32, 19)\n",
            "Top 10 terms for:  EDUCATION\n",
            "       Terms   EDUCATION\n",
            "0  education  256.643282\n",
            "1    college   69.326854\n",
            "2     parent   42.450170\n",
            "3      world   39.649946\n",
            "4       good   24.112932\n",
            "5       live   15.577701\n",
            "6      money   15.153713\n",
            "7    science   14.440966\n",
            "8       arts   10.696364\n",
            "9      media    9.600977\n",
            "###############\n",
            "(33, 20)\n",
            "Top 10 terms for:  COLLEGE\n",
            "       Terms     COLLEGE\n",
            "0    college  300.699326\n",
            "1  education   71.909466\n",
            "2       live   29.274479\n",
            "3      world   28.433706\n",
            "4       good   23.350079\n",
            "5      media   21.087161\n",
            "6      women   19.137830\n",
            "7      black   14.505568\n",
            "8      money   14.459631\n",
            "9     parent   13.276724\n",
            "###############\n",
            "(33, 21)\n",
            "Top 10 terms for:  PARENTS\n",
            "     Terms     PARENTS\n",
            "0   parent  704.245603\n",
            "1    world  119.468643\n",
            "2     good  118.416197\n",
            "3     live   93.070973\n",
            "4    women   86.860197\n",
            "5     home   84.013089\n",
            "6     news   39.329347\n",
            "7  college   32.810194\n",
            "8     food   29.498621\n",
            "9    black   26.205871\n",
            "###############\n",
            "(33, 22)\n",
            "Top 10 terms for:  ARTS & CULTURE\n",
            "     Terms  ARTS & CULTURE\n",
            "0    women       83.693179\n",
            "1    world       58.242285\n",
            "2     live       36.184519\n",
            "3    black       24.576167\n",
            "4  culture       19.669249\n",
            "5     good       17.689923\n",
            "6     arts       16.677165\n",
            "7     home       15.342903\n",
            "8   beauty       12.640659\n",
            "9   travel       11.581452\n",
            "###############\n",
            "(34, 23)\n",
            "Top 10 terms for:  STYLE\n",
            "      Terms       STYLE\n",
            "0     style  126.769871\n",
            "1    beauty  121.457273\n",
            "2      good   52.386147\n",
            "3     black   37.889150\n",
            "4     women   34.235477\n",
            "5     world   32.991887\n",
            "6      live   27.325955\n",
            "7     money   16.209290\n",
            "8      home   15.229864\n",
            "9  business   12.270092\n",
            "###############\n",
            "(34, 24)\n",
            "Top 10 terms for:  GREEN\n",
            "         Terms       GREEN\n",
            "0        world  125.440269\n",
            "1         live   81.563213\n",
            "2         home   72.432237\n",
            "3         good   58.612709\n",
            "4        green   51.651227\n",
            "5         food   51.317036\n",
            "6  environment   48.846933\n",
            "7         news   34.838072\n",
            "8      science   31.090562\n",
            "9       impact   29.158840\n",
            "###############\n",
            "(35, 25)\n",
            "Top 10 terms for:  TASTE\n",
            "     Terms       TASTE\n",
            "0     food  195.404255\n",
            "1     good   85.281482\n",
            "2    drink   71.484396\n",
            "3    taste   65.303564\n",
            "4    world   50.008766\n",
            "5  healthy   43.245209\n",
            "6     home   38.952217\n",
            "7    style   19.847067\n",
            "8    green   15.510594\n",
            "9    money   15.262439\n",
            "###############\n",
            "(36, 26)\n",
            "Top 10 terms for:  HEALTHY LIVING\n",
            "     Terms  HEALTHY LIVING\n",
            "0     live      344.775098\n",
            "1     good      261.847425\n",
            "2  healthy      174.310698\n",
            "3    world      151.334642\n",
            "4     food      148.017741\n",
            "5    women      144.864581\n",
            "6     home       78.838935\n",
            "7  science       75.691402\n",
            "8   parent       65.866743\n",
            "9    drink       65.583666\n",
            "###############\n",
            "(36, 27)\n",
            "Top 10 terms for:  WORLDPOST\n",
            "      Terms   WORLDPOST\n",
            "0     world  384.984726\n",
            "1      live  129.044834\n",
            "2     women  128.181818\n",
            "3      home   90.140254\n",
            "4     media   88.790893\n",
            "5      news   48.572056\n",
            "6      good   39.756753\n",
            "7  politics   30.930155\n",
            "8     voice   27.750976\n",
            "9    travel   26.504742\n",
            "###############\n",
            "(36, 28)\n",
            "Top 10 terms for:  GOOD NEWS\n",
            "     Terms  GOOD NEWS\n",
            "0     home  66.795463\n",
            "1    world  52.287612\n",
            "2     live  47.401297\n",
            "3     good  36.589631\n",
            "4     food  21.952309\n",
            "5    money  18.645634\n",
            "6  college  13.307826\n",
            "7   parent   8.693309\n",
            "8    style   6.000000\n",
            "9    media   5.820593\n",
            "###############\n",
            "(36, 29)\n",
            "Top 10 terms for:  FIFTY\n",
            "     Terms       FIFTY\n",
            "0     live  105.808809\n",
            "1    women   63.274707\n",
            "2     good   61.529332\n",
            "3    world   55.357256\n",
            "4     home   52.630024\n",
            "5   parent   39.731793\n",
            "6  college   20.532550\n",
            "7  healthy   18.100826\n",
            "8   beauty   12.996088\n",
            "9     news   12.845755\n",
            "###############\n",
            "(36, 30)\n",
            "Top 10 terms for:  ARTS\n",
            "     Terms       ARTS\n",
            "0    world  97.214587\n",
            "1     live  58.338162\n",
            "2     good  30.442246\n",
            "3     arts  30.068446\n",
            "4    women  25.328947\n",
            "5  culture  18.697025\n",
            "6     home  17.715329\n",
            "7   beauty  14.132909\n",
            "8    media  12.387046\n",
            "9    black  11.470254\n",
            "###############\n",
            "(36, 31)\n",
            "Top 10 terms for:  WELLNESS\n",
            "     Terms     WELLNESS\n",
            "0     live  1229.101646\n",
            "1     good   834.097477\n",
            "2  healthy   741.183583\n",
            "3    world   594.763995\n",
            "4     food   569.038648\n",
            "5    women   377.873418\n",
            "6     home   263.334821\n",
            "7    drink   237.142462\n",
            "8     news   183.041732\n",
            "9  science   150.480942\n",
            "###############\n",
            "(36, 32)\n",
            "Top 10 terms for:  PARENTING\n",
            "     Terms    PARENTING\n",
            "0   parent  1651.595981\n",
            "1    world   317.176202\n",
            "2     live   315.552933\n",
            "3     home   294.115893\n",
            "4     good   286.729832\n",
            "5    women   191.465158\n",
            "6  healthy   110.272983\n",
            "7     news   107.400758\n",
            "8     food   105.174128\n",
            "9  college    94.616168\n",
            "###############\n",
            "(36, 33)\n",
            "Top 10 terms for:  HOME & LIVING\n",
            "   Terms  HOME & LIVING\n",
            "0   home    1338.965537\n",
            "1   live     233.838516\n",
            "2  style     110.406988\n",
            "3   good      88.494731\n",
            "4  money      47.671309\n",
            "5  world      39.720664\n",
            "6  green      33.054912\n",
            "7  weird      28.405702\n",
            "8  black      26.395654\n",
            "9   food      22.092890\n",
            "###############\n",
            "(36, 34)\n",
            "Top 10 terms for:  STYLE & BEAUTY\n",
            "    Terms  STYLE & BEAUTY\n",
            "0   style     1782.753658\n",
            "1  beauty      614.112378\n",
            "2   women      243.115495\n",
            "3   black      224.962782\n",
            "4    good      222.562423\n",
            "5   world      189.005671\n",
            "6    live      127.539404\n",
            "7    news      100.626179\n",
            "8   sport       99.166721\n",
            "9    home       87.797797\n",
            "###############\n",
            "(36, 35)\n",
            "Top 10 terms for:  DIVORCE\n",
            "     Terms      DIVORCE\n",
            "0  divorce  1759.618577\n",
            "1   parent   211.243286\n",
            "2    women   104.288693\n",
            "3     good   102.024841\n",
            "4     live    99.235986\n",
            "5     home    53.650073\n",
            "6    world    46.535872\n",
            "7    money    32.340473\n",
            "8     news    25.666906\n",
            "9    media    25.622957\n",
            "###############\n",
            "(37, 36)\n",
            "Top 10 terms for:  WEDDINGS\n",
            "      Terms    WEDDINGS\n",
            "0  weddings  556.082763\n",
            "1      live   95.638452\n",
            "2      good   92.390589\n",
            "3     style   86.605158\n",
            "4     women   79.972423\n",
            "5     world   60.747232\n",
            "6     money   50.592463\n",
            "7      home   47.936996\n",
            "8      news   35.113585\n",
            "9   divorce   31.640851\n",
            "###############\n",
            "(38, 37)\n",
            "Top 10 terms for:  FOOD & DRINK\n",
            "     Terms  FOOD & DRINK\n",
            "0     food    704.655123\n",
            "1    taste    314.885766\n",
            "2    drink    259.024570\n",
            "3     good    254.039469\n",
            "4    world    137.131272\n",
            "5     home    127.470932\n",
            "6  healthy    109.021498\n",
            "7    green     95.155885\n",
            "8     live     57.666905\n",
            "9    style     44.830466\n",
            "###############\n",
            "(38, 38)\n",
            "Top 10 terms for:  MONEY\n",
            "      Terms       MONEY\n",
            "0     money  238.103708\n",
            "1      home   68.353367\n",
            "2      good   61.442549\n",
            "3      live   42.650462\n",
            "4   college   42.187358\n",
            "5      news   37.538761\n",
            "6     world   29.811027\n",
            "7     black   29.289780\n",
            "8    parent   28.747800\n",
            "9  business   22.665953\n",
            "###############\n",
            "(38, 39)\n",
            "Top 10 terms for:  ENVIRONMENT\n",
            "         Terms  ENVIRONMENT\n",
            "0        world    87.279592\n",
            "1         home    48.743788\n",
            "2         live    46.228985\n",
            "3         news    44.751235\n",
            "4        green    42.876047\n",
            "5         good    24.653465\n",
            "6         food    21.512942\n",
            "7       impact    19.089164\n",
            "8  environment    18.806350\n",
            "9      science    14.958090\n",
            "###############\n",
            "(38, 40)\n",
            "Top 10 terms for:  CULTURE & ARTS\n",
            "     Terms  CULTURE & ARTS\n",
            "0    world       72.452194\n",
            "1     arts       55.648748\n",
            "2  culture       33.657828\n",
            "3     live       29.263007\n",
            "4     good       18.804170\n",
            "5   beauty       17.874212\n",
            "6    black       16.749647\n",
            "7    women       14.989691\n",
            "8    style       13.000000\n",
            "9     home       11.566369\n",
            "###############\n",
            "(38, 41)\n"
          ],
          "name": "stdout"
        }
      ]
    },
    {
      "cell_type": "code",
      "metadata": {
        "id": "CPMsRZujURjm",
        "colab_type": "code",
        "colab": {
          "base_uri": "https://localhost:8080/",
          "height": 34
        },
        "outputId": "25d25d96-0b15-44ff-e147-67e7853ee9dc"
      },
      "source": [
        "data_top_5_words.fillna(0, inplace=True)\n",
        "data_top_5_words.set_index('Terms', inplace=True)\n",
        "data_top_5_words.shape\n"
      ],
      "execution_count": 179,
      "outputs": [
        {
          "output_type": "execute_result",
          "data": {
            "text/plain": [
              "(38, 40)"
            ]
          },
          "metadata": {
            "tags": []
          },
          "execution_count": 179
        }
      ]
    },
    {
      "cell_type": "code",
      "metadata": {
        "id": "-J6ANq8-m3cZ",
        "colab_type": "code",
        "colab": {
          "base_uri": "https://localhost:8080/",
          "height": 834
        },
        "outputId": "79bd9c72-6db4-4709-ad4c-c99af885bf18"
      },
      "source": [
        "!pip install textacy"
      ],
      "execution_count": 180,
      "outputs": [
        {
          "output_type": "stream",
          "text": [
            "Collecting textacy\n",
            "\u001b[?25l  Downloading https://files.pythonhosted.org/packages/3a/5e/3b8391cf6ff39350b73f8421184cf6792002b5c2c17982b7c9fbd5ff36de/textacy-0.9.1-py3-none-any.whl (203kB)\n",
            "\r\u001b[K     |█▋                              | 10kB 18.3MB/s eta 0:00:01\r\u001b[K     |███▏                            | 20kB 1.8MB/s eta 0:00:01\r\u001b[K     |████▉                           | 30kB 2.2MB/s eta 0:00:01\r\u001b[K     |██████▍                         | 40kB 1.7MB/s eta 0:00:01\r\u001b[K     |████████                        | 51kB 1.9MB/s eta 0:00:01\r\u001b[K     |█████████▋                      | 61kB 2.3MB/s eta 0:00:01\r\u001b[K     |███████████▎                    | 71kB 2.5MB/s eta 0:00:01\r\u001b[K     |████████████▉                   | 81kB 2.7MB/s eta 0:00:01\r\u001b[K     |██████████████▌                 | 92kB 3.0MB/s eta 0:00:01\r\u001b[K     |████████████████                | 102kB 2.9MB/s eta 0:00:01\r\u001b[K     |█████████████████▊              | 112kB 2.9MB/s eta 0:00:01\r\u001b[K     |███████████████████▎            | 122kB 2.9MB/s eta 0:00:01\r\u001b[K     |█████████████████████           | 133kB 2.9MB/s eta 0:00:01\r\u001b[K     |██████████████████████▌         | 143kB 2.9MB/s eta 0:00:01\r\u001b[K     |████████████████████████▏       | 153kB 2.9MB/s eta 0:00:01\r\u001b[K     |█████████████████████████▊      | 163kB 2.9MB/s eta 0:00:01\r\u001b[K     |███████████████████████████▎    | 174kB 2.9MB/s eta 0:00:01\r\u001b[K     |█████████████████████████████   | 184kB 2.9MB/s eta 0:00:01\r\u001b[K     |██████████████████████████████▌ | 194kB 2.9MB/s eta 0:00:01\r\u001b[K     |████████████████████████████████| 204kB 2.9MB/s \n",
            "\u001b[?25hRequirement already satisfied: cachetools>=2.0.1 in /usr/local/lib/python3.6/dist-packages (from textacy) (4.0.0)\n",
            "Requirement already satisfied: tqdm>=4.19.6 in /usr/local/lib/python3.6/dist-packages (from textacy) (4.28.1)\n",
            "Requirement already satisfied: scipy>=0.17.0 in /usr/local/lib/python3.6/dist-packages (from textacy) (1.4.1)\n",
            "Requirement already satisfied: spacy>=2.0.12 in /usr/local/lib/python3.6/dist-packages (from textacy) (2.1.9)\n",
            "Collecting jellyfish>=0.7.0\n",
            "\u001b[?25l  Downloading https://files.pythonhosted.org/packages/3f/80/bcacc7affb47be7279d7d35225e1a932416ed051b315a7f9df20acf04cbe/jellyfish-0.7.2.tar.gz (133kB)\n",
            "\u001b[K     |████████████████████████████████| 143kB 8.7MB/s \n",
            "\u001b[?25hRequirement already satisfied: numpy>=1.17.0 in /usr/local/lib/python3.6/dist-packages (from textacy) (1.17.5)\n",
            "Collecting pyphen>=0.9.4\n",
            "\u001b[?25l  Downloading https://files.pythonhosted.org/packages/15/82/08a3629dce8d1f3d91db843bb36d4d7db6b6269d5067259613a0d5c8a9db/Pyphen-0.9.5-py2.py3-none-any.whl (3.0MB)\n",
            "\u001b[K     |████████████████████████████████| 3.0MB 9.2MB/s \n",
            "\u001b[?25hRequirement already satisfied: requests>=2.10.0 in /usr/local/lib/python3.6/dist-packages (from textacy) (2.21.0)\n",
            "Requirement already satisfied: pyemd>=0.5.0 in /usr/local/lib/python3.6/dist-packages (from textacy) (0.5.1)\n",
            "Collecting cytoolz>=0.8.0\n",
            "\u001b[?25l  Downloading https://files.pythonhosted.org/packages/62/b1/7f16703fe4a497879b1b457adf1e472fad2d4f030477698b16d2febf38bb/cytoolz-0.10.1.tar.gz (475kB)\n",
            "\u001b[K     |████████████████████████████████| 481kB 30.1MB/s \n",
            "\u001b[?25hRequirement already satisfied: joblib>=0.13.0 in /usr/local/lib/python3.6/dist-packages (from textacy) (0.14.1)\n",
            "Requirement already satisfied: srsly>=0.0.5 in /usr/local/lib/python3.6/dist-packages (from textacy) (1.0.1)\n",
            "Requirement already satisfied: scikit-learn>=0.19.0 in /usr/local/lib/python3.6/dist-packages (from textacy) (0.22.1)\n",
            "Requirement already satisfied: networkx>=2.0 in /usr/local/lib/python3.6/dist-packages (from textacy) (2.4)\n",
            "Requirement already satisfied: thinc<7.1.0,>=7.0.8 in /usr/local/lib/python3.6/dist-packages (from spacy>=2.0.12->textacy) (7.0.8)\n",
            "Requirement already satisfied: cymem<2.1.0,>=2.0.2 in /usr/local/lib/python3.6/dist-packages (from spacy>=2.0.12->textacy) (2.0.3)\n",
            "Requirement already satisfied: blis<0.3.0,>=0.2.2 in /usr/local/lib/python3.6/dist-packages (from spacy>=2.0.12->textacy) (0.2.4)\n",
            "Requirement already satisfied: murmurhash<1.1.0,>=0.28.0 in /usr/local/lib/python3.6/dist-packages (from spacy>=2.0.12->textacy) (1.0.2)\n",
            "Requirement already satisfied: wasabi<1.1.0,>=0.2.0 in /usr/local/lib/python3.6/dist-packages (from spacy>=2.0.12->textacy) (0.6.0)\n",
            "Requirement already satisfied: plac<1.0.0,>=0.9.6 in /usr/local/lib/python3.6/dist-packages (from spacy>=2.0.12->textacy) (0.9.6)\n",
            "Requirement already satisfied: preshed<2.1.0,>=2.0.1 in /usr/local/lib/python3.6/dist-packages (from spacy>=2.0.12->textacy) (2.0.1)\n",
            "Requirement already satisfied: certifi>=2017.4.17 in /usr/local/lib/python3.6/dist-packages (from requests>=2.10.0->textacy) (2019.11.28)\n",
            "Requirement already satisfied: urllib3<1.25,>=1.21.1 in /usr/local/lib/python3.6/dist-packages (from requests>=2.10.0->textacy) (1.24.3)\n",
            "Requirement already satisfied: idna<2.9,>=2.5 in /usr/local/lib/python3.6/dist-packages (from requests>=2.10.0->textacy) (2.8)\n",
            "Requirement already satisfied: chardet<3.1.0,>=3.0.2 in /usr/local/lib/python3.6/dist-packages (from requests>=2.10.0->textacy) (3.0.4)\n",
            "Requirement already satisfied: toolz>=0.8.0 in /usr/local/lib/python3.6/dist-packages (from cytoolz>=0.8.0->textacy) (0.10.0)\n",
            "Requirement already satisfied: decorator>=4.3.0 in /usr/local/lib/python3.6/dist-packages (from networkx>=2.0->textacy) (4.4.1)\n",
            "Building wheels for collected packages: jellyfish, cytoolz\n",
            "  Building wheel for jellyfish (setup.py) ... \u001b[?25l\u001b[?25hdone\n",
            "  Created wheel for jellyfish: filename=jellyfish-0.7.2-cp36-cp36m-linux_x86_64.whl size=73000 sha256=4bb9732d98f2f24c8e7cef988f4e246a4860a1d7ee5cf47b89f4fe0ee58c1966\n",
            "  Stored in directory: /root/.cache/pip/wheels/e8/fe/99/d8fa8f2ef7b82a625b0b77a84d319b0b50693659823c4effb4\n",
            "  Building wheel for cytoolz (setup.py) ... \u001b[?25l\u001b[?25hdone\n",
            "  Created wheel for cytoolz: filename=cytoolz-0.10.1-cp36-cp36m-linux_x86_64.whl size=1256679 sha256=4eb2a2ae8ba85b7d60815332b25f124678e12af4d904ff6c5ee9cf71e41ce3c6\n",
            "  Stored in directory: /root/.cache/pip/wheels/64/2a/18/d962b614e055577e7d9a3e4813e0742f822ca9c8800cc3783a\n",
            "Successfully built jellyfish cytoolz\n",
            "Installing collected packages: jellyfish, pyphen, cytoolz, textacy\n",
            "Successfully installed cytoolz-0.10.1 jellyfish-0.7.2 pyphen-0.9.5 textacy-0.9.1\n"
          ],
          "name": "stdout"
        }
      ]
    },
    {
      "cell_type": "code",
      "metadata": {
        "id": "r5fUHdrVngJC",
        "colab_type": "code",
        "colab": {}
      },
      "source": [
        "import numpy as np\n",
        "from textacy.viz.termite import draw_termite_plot"
      ],
      "execution_count": 0,
      "outputs": []
    },
    {
      "cell_type": "code",
      "metadata": {
        "id": "pivF7VzknkcN",
        "colab_type": "code",
        "colab": {}
      },
      "source": [
        "data = data_top_5_words.copy()\n",
        "data_norm = (data) / (data.max() - data.min())"
      ],
      "execution_count": 0,
      "outputs": []
    },
    {
      "cell_type": "code",
      "metadata": {
        "id": "YFyxHfA8nqgd",
        "colab_type": "code",
        "colab": {
          "base_uri": "https://localhost:8080/",
          "height": 724
        },
        "outputId": "afa2586a-b7dd-4ddc-9afc-42da95e63865"
      },
      "source": [
        "draw_termite_plot(np.array(data_norm.values),\n",
        "                  data_top_5_words.columns,\n",
        "                  data_top_5_words.index,\n",
        "                  highlight_cols=[0, 3, 5, 7, 9, 21])"
      ],
      "execution_count": 184,
      "outputs": [
        {
          "output_type": "execute_result",
          "data": {
            "text/plain": [
              "<matplotlib.axes._subplots.AxesSubplot at 0x7f01ddc0a3c8>"
            ]
          },
          "metadata": {
            "tags": []
          },
          "execution_count": 184
        },
        {
          "output_type": "display_data",
          "data": {
            "image/png": "[encoded data removed]",
            "text/plain": [
              "<Figure size 1377.15x794.309 with 1 Axes>"
            ]
          },
          "metadata": {
            "tags": []
          }
        }
      ]
    },
    {
      "cell_type": "code",
      "metadata": {
        "id": "H3aSnDwhoQep",
        "colab_type": "code",
        "colab": {}
      },
      "source": [
        "import textacy"
      ],
      "execution_count": 0,
      "outputs": []
    },
    {
      "cell_type": "code",
      "metadata": {
        "id": "arrzY3V2oi2T",
        "colab_type": "code",
        "colab": {}
      },
      "source": [
        "def get_stat(text):\n",
        "  doc = textacy.make_spacy_doc(text, lang=nlp)\n",
        "  ts = textacy.TextStats(doc)\n",
        "  return ts.basic_counts"
      ],
      "execution_count": 0,
      "outputs": []
    },
    {
      "cell_type": "code",
      "metadata": {
        "id": "pffNx6xuoszr",
        "colab_type": "code",
        "colab": {}
      },
      "source": [
        "%%time\n",
        "data_news['Stats'] = data_news['text'].apply(get_stat)"
      ],
      "execution_count": 0,
      "outputs": []
    },
    {
      "cell_type": "code",
      "metadata": {
        "id": "VHgLXsuGozrr",
        "colab_type": "code",
        "colab": {}
      },
      "source": [
        "data_news.head()"
      ],
      "execution_count": 0,
      "outputs": []
    },
    {
      "cell_type": "code",
      "metadata": {
        "id": "3-mz9802pAXB",
        "colab_type": "code",
        "colab": {}
      },
      "source": [
        "data_stats = pd.DataFrame(data_news['Stats'].values.tolist(),\n",
        "                          index = data_news.index)\n",
        "data_stats.head()\n"
      ],
      "execution_count": 0,
      "outputs": []
    },
    {
      "cell_type": "code",
      "metadata": {
        "id": "WYvZx7p9pJkE",
        "colab_type": "code",
        "colab": {}
      },
      "source": [
        "plt.figure(figsize=(15,10))\n",
        "ax = sns.swarmplot(x=\"category\", y=\"polarity\", data=data_news)\n",
        "ax.set_title('Sentiment in every Category')\n",
        "labels = ax.set_xticklabels(ax.get_xticklabels(), rotation=60)"
      ],
      "execution_count": 0,
      "outputs": []
    },
    {
      "cell_type": "code",
      "metadata": {
        "id": "X0SZT_rDpoEW",
        "colab_type": "code",
        "colab": {}
      },
      "source": [
        ""
      ],
      "execution_count": 0,
      "outputs": []
    },
    {
      "cell_type": "code",
      "metadata": {
        "id": "9PEkVWY6sx2r",
        "colab_type": "code",
        "colab": {}
      },
      "source": [
        ""
      ],
      "execution_count": 0,
      "outputs": []
    }
  ]
}